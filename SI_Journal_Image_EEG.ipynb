{
  "nbformat": 4,
  "nbformat_minor": 0,
  "metadata": {
    "colab": {
      "name": "Monirul_Journal_Image_EEG.ipynb",
      "version": "0.3.2",
      "provenance": [],
      "collapsed_sections": [],
      "include_colab_link": true
    },
    "kernelspec": {
      "name": "python3",
      "display_name": "Python 3"
    },
    "accelerator": "GPU"
  },
  "cells": [
    {
      "cell_type": "markdown",
      "metadata": {
        "id": "view-in-github",
        "colab_type": "text"
      },
      "source": [
        "<a href=\"https://colab.research.google.com/github/zabir-nabil/data-viz/blob/master/SI_Journal_Image_EEG.ipynb\" target=\"_parent\"><img src=\"https://colab.research.google.com/assets/colab-badge.svg\" alt=\"Open In Colab\"/></a>"
      ]
    },
    {
      "metadata": {
        "id": "YNrfH9R1bQw9",
        "colab_type": "code",
        "outputId": "39a4714d-e8c2-4669-e02f-ea08ecc2aaca",
        "colab": {
          "base_uri": "https://localhost:8080/",
          "height": 35
        }
      },
      "cell_type": "code",
      "source": [
        "print('zabiralnazi@yahoo.com')"
      ],
      "execution_count": 0,
      "outputs": [
        {
          "output_type": "stream",
          "text": [
            "zabiralnazi@yahoo.com\n"
          ],
          "name": "stdout"
        }
      ]
    },
    {
      "metadata": {
        "id": "RlYx2IDKcM1N",
        "colab_type": "code",
        "outputId": "f5470bf2-290e-447f-cbf2-3c40191c128a",
        "colab": {
          "base_uri": "https://localhost:8080/",
          "height": 128
        }
      },
      "cell_type": "code",
      "source": [
        "# Load the Drive helper and mount\n",
        "from google.colab import drive\n",
        "\n",
        "# This will prompt for authorization.\n",
        "drive.mount('/content/drive')"
      ],
      "execution_count": 0,
      "outputs": [
        {
          "output_type": "stream",
          "text": [
            "Go to this URL in a browser: https://accounts.google.com/o/oauth2/auth?client_id=947318989803-6bn6qk8qdgf4n4g3pfee6491hc0brc4i.apps.googleusercontent.com&redirect_uri=urn%3Aietf%3Awg%3Aoauth%3A2.0%3Aoob&scope=email%20https%3A%2F%2Fwww.googleapis.com%2Fauth%2Fdocs.test%20https%3A%2F%2Fwww.googleapis.com%2Fauth%2Fdrive%20https%3A%2F%2Fwww.googleapis.com%2Fauth%2Fdrive.photos.readonly%20https%3A%2F%2Fwww.googleapis.com%2Fauth%2Fpeopleapi.readonly&response_type=code\n",
            "\n",
            "Enter your authorization code:\n",
            "··········\n",
            "Mounted at /content/drive\n"
          ],
          "name": "stdout"
        }
      ]
    },
    {
      "metadata": {
        "id": "KdIMJGO5caaC",
        "colab_type": "code",
        "outputId": "0a397e23-a1e1-48f5-e7d2-66bc7216ab26",
        "colab": {
          "base_uri": "https://localhost:8080/",
          "height": 35
        }
      },
      "cell_type": "code",
      "source": [
        "% cd /content/drive/My Drive"
      ],
      "execution_count": 0,
      "outputs": [
        {
          "output_type": "stream",
          "text": [
            "/content/drive/My Drive\n"
          ],
          "name": "stdout"
        }
      ]
    },
    {
      "metadata": {
        "id": "H0NRGEI_c-Cr",
        "colab_type": "code",
        "outputId": "929605d1-cd61-4ca2-9cc9-6ecaf54b3ecb",
        "colab": {
          "base_uri": "https://localhost:8080/",
          "height": 35
        }
      },
      "cell_type": "code",
      "source": [
        "import os\n",
        "print(os.stat('/content/drive/My Drive/images.zip').st_size/1000000000) # GigaBytes (approx)"
      ],
      "execution_count": 0,
      "outputs": [
        {
          "output_type": "stream",
          "text": [
            "0.03655087\n"
          ],
          "name": "stdout"
        }
      ]
    },
    {
      "metadata": {
        "id": "mgBiC4Coc-tH",
        "colab_type": "code",
        "colab": {}
      },
      "cell_type": "code",
      "source": [
        "# unzip to train_imgs folder\n",
        "images = '/content/drive/My Drive/images.zip'\n",
        "import zipfile\n",
        "zip_ref = zipfile.ZipFile(images, 'r')\n",
        "zip_ref.extractall('train')\n",
        "zip_ref.close()"
      ],
      "execution_count": 0,
      "outputs": []
    },
    {
      "metadata": {
        "id": "GidDRYpQdYmy",
        "colab_type": "code",
        "outputId": "c0f73bdc-4117-4f53-d427-ebdd29d1b412",
        "colab": {
          "base_uri": "https://localhost:8080/",
          "height": 90
        }
      },
      "cell_type": "code",
      "source": [
        "% cd /content/drive/My Drive/train/images/knew\n",
        "! ls"
      ],
      "execution_count": 0,
      "outputs": [
        {
          "output_type": "stream",
          "text": [
            "/content/drive/My Drive/train/images/knew\n",
            "img_109.png  img_123.png  img_131.png  img_143.png  img_149.png\n",
            "img_115.png  img_125.png  img_132.png  img_145.png  img_158.png\n",
            "img_118.png  img_128.png  img_136.png  img_148.png  img_164.png\n"
          ],
          "name": "stdout"
        }
      ]
    },
    {
      "metadata": {
        "id": "L1W88Jugdv8k",
        "colab_type": "code",
        "outputId": "1a23fc02-5726-4558-982a-1db394b5e05c",
        "colab": {
          "base_uri": "https://localhost:8080/",
          "height": 490
        }
      },
      "cell_type": "code",
      "source": [
        "% cd /content/drive/My Drive/train/images/rest\n",
        "! ls"
      ],
      "execution_count": 0,
      "outputs": [
        {
          "output_type": "stream",
          "text": [
            "/content/drive/My Drive/train/images/rest\n",
            "img_0.png    img_127.png  img_157.png  img_32.png  img_55.png  img_78.png\n",
            "img_100.png  img_129.png  img_159.png  img_33.png  img_56.png  img_79.png\n",
            "img_101.png  img_12.png   img_15.png   img_34.png  img_57.png  img_7.png\n",
            "img_102.png  img_130.png  img_160.png  img_35.png  img_58.png  img_80.png\n",
            "img_103.png  img_133.png  img_161.png  img_36.png  img_59.png  img_81.png\n",
            "img_104.png  img_134.png  img_162.png  img_37.png  img_5.png   img_82.png\n",
            "img_105.png  img_135.png  img_163.png  img_38.png  img_60.png  img_83.png\n",
            "img_106.png  img_137.png  img_16.png   img_39.png  img_61.png  img_84.png\n",
            "img_107.png  img_138.png  img_17.png   img_3.png   img_62.png  img_85.png\n",
            "img_108.png  img_139.png  img_18.png   img_40.png  img_63.png  img_86.png\n",
            "img_10.png   img_13.png   img_19.png   img_41.png  img_64.png  img_87.png\n",
            "img_110.png  img_140.png  img_1.png    img_42.png  img_65.png  img_88.png\n",
            "img_111.png  img_141.png  img_20.png   img_43.png  img_66.png  img_89.png\n",
            "img_112.png  img_142.png  img_21.png   img_44.png  img_67.png  img_8.png\n",
            "img_113.png  img_144.png  img_22.png   img_45.png  img_68.png  img_90.png\n",
            "img_114.png  img_146.png  img_23.png   img_46.png  img_69.png  img_91.png\n",
            "img_116.png  img_147.png  img_24.png   img_47.png  img_6.png   img_92.png\n",
            "img_117.png  img_14.png   img_25.png   img_48.png  img_70.png  img_93.png\n",
            "img_119.png  img_150.png  img_26.png   img_49.png  img_71.png  img_94.png\n",
            "img_11.png   img_151.png  img_27.png   img_4.png   img_72.png  img_95.png\n",
            "img_120.png  img_152.png  img_28.png   img_50.png  img_73.png  img_96.png\n",
            "img_121.png  img_153.png  img_29.png   img_51.png  img_74.png  img_97.png\n",
            "img_122.png  img_154.png  img_2.png    img_52.png  img_75.png  img_98.png\n",
            "img_124.png  img_155.png  img_30.png   img_53.png  img_76.png  img_99.png\n",
            "img_126.png  img_156.png  img_31.png   img_54.png  img_77.png  img_9.png\n"
          ],
          "name": "stdout"
        }
      ]
    },
    {
      "metadata": {
        "id": "THuvhePSeK2J",
        "colab_type": "code",
        "colab": {}
      },
      "cell_type": "code",
      "source": [
        "import glob\n",
        "import cv2\n",
        "import numpy as np\n",
        "X = [] # images\n",
        "y = [] # labels\n",
        "for files in glob.glob('/content/drive/My Drive/train/images/knew/*.png'):\n",
        "    a = cv2.imread(files)\n",
        "    a = cv2.resize(a, (512, 512)) \n",
        "    a = np.array(a,dtype=np.uint8)\n",
        "    X.append(a)\n",
        "    y.append(0)\n",
        "\n",
        "for files in glob.glob('/content/drive/My Drive/train/images/rest/*.png'):\n",
        "    a = cv2.imread(files)\n",
        "    a = cv2.resize(a, (512, 512)) \n",
        "    a = np.array(a,dtype=np.uint8)\n",
        "    X.append(a)\n",
        "    y.append(1)"
      ],
      "execution_count": 0,
      "outputs": []
    },
    {
      "metadata": {
        "id": "v0Lk2H1Fgp1p",
        "colab_type": "code",
        "outputId": "0bf0dbb2-def4-4757-971f-b1fe10d95481",
        "colab": {
          "base_uri": "https://localhost:8080/",
          "height": 53
        }
      },
      "cell_type": "code",
      "source": [
        "print(len(X))\n",
        "print(len(y))"
      ],
      "execution_count": 0,
      "outputs": [
        {
          "output_type": "stream",
          "text": [
            "165\n",
            "165\n"
          ],
          "name": "stdout"
        }
      ]
    },
    {
      "metadata": {
        "id": "6YKBQpRfg3hK",
        "colab_type": "code",
        "colab": {}
      },
      "cell_type": "code",
      "source": [
        "Z = list(zip(X,y))"
      ],
      "execution_count": 0,
      "outputs": []
    },
    {
      "metadata": {
        "id": "trrTaXG_ibvy",
        "colab_type": "code",
        "colab": {}
      },
      "cell_type": "code",
      "source": [
        "import random\n",
        "random.seed(1997)\n",
        "random.shuffle(Z)"
      ],
      "execution_count": 0,
      "outputs": []
    },
    {
      "metadata": {
        "id": "GlwrtbyxiiPx",
        "colab_type": "code",
        "outputId": "56a83147-1a31-4ebf-dd7c-f61dad4d4a28",
        "colab": {
          "base_uri": "https://localhost:8080/",
          "height": 35
        }
      },
      "cell_type": "code",
      "source": [
        "len(Z)"
      ],
      "execution_count": 0,
      "outputs": [
        {
          "output_type": "execute_result",
          "data": {
            "text/plain": [
              "165"
            ]
          },
          "metadata": {
            "tags": []
          },
          "execution_count": 23
        }
      ]
    },
    {
      "metadata": {
        "id": "rABNDjaeiwQr",
        "colab_type": "code",
        "colab": {}
      },
      "cell_type": "code",
      "source": [
        "X = [p[0] for p in Z]\n",
        "y = [p[1] for p in Z]"
      ],
      "execution_count": 0,
      "outputs": []
    },
    {
      "metadata": {
        "id": "X3-hx4GAi-gc",
        "colab_type": "code",
        "outputId": "e4be871d-c80e-4cf1-a09c-4be2f95610b8",
        "colab": {
          "base_uri": "https://localhost:8080/",
          "height": 53
        }
      },
      "cell_type": "code",
      "source": [
        "print(len(X))\n",
        "print(len(y))"
      ],
      "execution_count": 0,
      "outputs": [
        {
          "output_type": "stream",
          "text": [
            "165\n",
            "165\n"
          ],
          "name": "stdout"
        }
      ]
    },
    {
      "metadata": {
        "id": "tl9Hy5JVjIUD",
        "colab_type": "code",
        "colab": {}
      },
      "cell_type": "code",
      "source": [
        "Xt = X[0:100]\n",
        "Xv = X[100:132]\n",
        "Xtst = X[132:]\n",
        "yt = y[0:100]\n",
        "yv = y[100:132]\n",
        "ytst = y[132:]"
      ],
      "execution_count": 0,
      "outputs": []
    },
    {
      "metadata": {
        "id": "M-RIS2sVqHrg",
        "colab_type": "code",
        "outputId": "00aeb0b7-cebb-4512-9ca3-7b6d67e2d6de",
        "colab": {
          "base_uri": "https://localhost:8080/",
          "height": 72
        }
      },
      "cell_type": "code",
      "source": [
        "print(len(Xt))\n",
        "print(len(Xv))\n",
        "print(len(Xtst))"
      ],
      "execution_count": 0,
      "outputs": [
        {
          "output_type": "stream",
          "text": [
            "100\n",
            "32\n",
            "33\n"
          ],
          "name": "stdout"
        }
      ]
    },
    {
      "metadata": {
        "id": "iycWudwTjcsH",
        "colab_type": "code",
        "colab": {}
      },
      "cell_type": "code",
      "source": [
        "Xt = np.array(Xt, dtype = 'float32')\n",
        "Xt /= 255.\n",
        "Xv = np.array(Xv, dtype = 'float32')\n",
        "Xv /= 255.\n",
        "Xtst = np.array(Xtst, dtype = 'float32')\n",
        "Xtst /= 255.\n",
        "\n",
        "yt = np.array(yt, dtype = 'float32')\n",
        "yv = np.array(yv, dtype = 'float32')\n",
        "ytst = np.array(ytst, dtype = 'float32')"
      ],
      "execution_count": 0,
      "outputs": []
    },
    {
      "metadata": {
        "id": "Oqg9RH6vjp2a",
        "colab_type": "code",
        "outputId": "c207f653-d101-4da9-ceb9-dda3a5763713",
        "colab": {
          "base_uri": "https://localhost:8080/",
          "height": 53
        }
      },
      "cell_type": "code",
      "source": [
        "print(Xt.shape)\n",
        "print(Xv.shape)"
      ],
      "execution_count": 0,
      "outputs": [
        {
          "output_type": "stream",
          "text": [
            "(100, 512, 512, 3)\n",
            "(32, 512, 512, 3)\n"
          ],
          "name": "stdout"
        }
      ]
    },
    {
      "metadata": {
        "id": "gUVxC1CEnTmy",
        "colab_type": "code",
        "colab": {}
      },
      "cell_type": "code",
      "source": [
        "from keras.optimizers import Adam\n",
        "\n",
        "adam = Adam(lr=0.0001) # , decay=1e-6, momentum=0.9, nesterov=True)"
      ],
      "execution_count": 0,
      "outputs": []
    },
    {
      "metadata": {
        "id": "7iijo3l2jtrT",
        "colab_type": "code",
        "colab": {}
      },
      "cell_type": "code",
      "source": [
        "from keras.models import Sequential\n",
        "from keras.layers import Conv2D, MaxPooling2D\n",
        "from keras.layers import Activation, Dropout, Flatten, Dense\n",
        "\n",
        "model = Sequential()\n",
        "model.add(Conv2D(32, (3, 3), input_shape=(512, 512, 3)))\n",
        "model.add(Activation('relu'))\n",
        "model.add(MaxPooling2D(pool_size=(2, 2)))\n",
        "\n",
        "model.add(Conv2D(32, (3, 3)))\n",
        "model.add(Activation('relu'))\n",
        "model.add(MaxPooling2D(pool_size=(2, 2)))\n",
        "\n",
        "model.add(Conv2D(64, (3, 3)))\n",
        "model.add(Activation('relu'))\n",
        "model.add(MaxPooling2D(pool_size=(2, 2)))\n",
        "\n",
        "model.add(Flatten())  # this converts our 3D feature maps to 1D feature vectors\n",
        "model.add(Dense(64))\n",
        "model.add(Activation('relu'))\n",
        "model.add(Dropout(0.5))\n",
        "model.add(Dense(1))\n",
        "model.add(Activation('sigmoid'))\n",
        "\n",
        "model.compile(loss='binary_crossentropy',\n",
        "              optimizer=adam,\n",
        "              metrics=['accuracy'])"
      ],
      "execution_count": 0,
      "outputs": []
    },
    {
      "metadata": {
        "id": "lkvRvRVhllja",
        "colab_type": "code",
        "colab": {}
      },
      "cell_type": "code",
      "source": [
        "from sklearn.utils import class_weight\n",
        "class_weights = class_weight.compute_class_weight('balanced',\n",
        "                                                 np.unique(yt),\n",
        "                                                 yt)"
      ],
      "execution_count": 0,
      "outputs": []
    },
    {
      "metadata": {
        "id": "hCvZH0dvmw0H",
        "colab_type": "code",
        "outputId": "a0a2a73b-d8d5-4103-8853-314850beae7a",
        "colab": {
          "base_uri": "https://localhost:8080/",
          "height": 35
        }
      },
      "cell_type": "code",
      "source": [
        "print(class_weights)"
      ],
      "execution_count": 0,
      "outputs": [
        {
          "output_type": "stream",
          "text": [
            "[7.14285714 0.53763441]\n"
          ],
          "name": "stdout"
        }
      ]
    },
    {
      "metadata": {
        "id": "OOcFCHlykGR8",
        "colab_type": "code",
        "outputId": "8e399119-107a-498b-a058-e076c3768eba",
        "colab": {
          "base_uri": "https://localhost:8080/",
          "height": 419
        }
      },
      "cell_type": "code",
      "source": [
        "history = model.fit(x = Xt, y = yt, batch_size = 8, epochs = 10, verbose = 1, \n",
        "                   validation_data = (Xv, yv),  class_weight = class_weights)"
      ],
      "execution_count": 0,
      "outputs": [
        {
          "output_type": "stream",
          "text": [
            "Train on 100 samples, validate on 32 samples\n",
            "Epoch 1/10\n",
            "100/100 [==============================] - 4s 40ms/step - loss: 0.4414 - acc: 0.8700 - val_loss: 1.1796 - val_acc: 0.8438\n",
            "Epoch 2/10\n",
            "100/100 [==============================] - 2s 22ms/step - loss: 0.4529 - acc: 0.9300 - val_loss: 0.7125 - val_acc: 0.8438\n",
            "Epoch 3/10\n",
            "100/100 [==============================] - 2s 22ms/step - loss: 0.3802 - acc: 0.9200 - val_loss: 0.4639 - val_acc: 0.8438\n",
            "Epoch 4/10\n",
            "100/100 [==============================] - 2s 23ms/step - loss: 0.3306 - acc: 0.9200 - val_loss: 0.4825 - val_acc: 0.8438\n",
            "Epoch 5/10\n",
            "100/100 [==============================] - 2s 22ms/step - loss: 0.3442 - acc: 0.9300 - val_loss: 0.4516 - val_acc: 0.8438\n",
            "Epoch 6/10\n",
            "100/100 [==============================] - 2s 23ms/step - loss: 0.2925 - acc: 0.9300 - val_loss: 0.5041 - val_acc: 0.8438\n",
            "Epoch 7/10\n",
            "100/100 [==============================] - 2s 22ms/step - loss: 0.3010 - acc: 0.9300 - val_loss: 0.4870 - val_acc: 0.8438\n",
            "Epoch 8/10\n",
            "100/100 [==============================] - 2s 23ms/step - loss: 0.3029 - acc: 0.9300 - val_loss: 0.4501 - val_acc: 0.8438\n",
            "Epoch 9/10\n",
            "100/100 [==============================] - 2s 23ms/step - loss: 0.2569 - acc: 0.9300 - val_loss: 0.5667 - val_acc: 0.8438\n",
            "Epoch 10/10\n",
            "100/100 [==============================] - 2s 23ms/step - loss: 0.2798 - acc: 0.9300 - val_loss: 0.4659 - val_acc: 0.8438\n"
          ],
          "name": "stdout"
        }
      ]
    },
    {
      "metadata": {
        "id": "TFWdADjmmmGL",
        "colab_type": "code",
        "colab": {}
      },
      "cell_type": "code",
      "source": [
        "y_test = model.predict(Xtst)"
      ],
      "execution_count": 0,
      "outputs": []
    },
    {
      "metadata": {
        "id": "0QuF_DlMq-b2",
        "colab_type": "code",
        "outputId": "d8aa91ca-036d-4465-bfbc-ab817cf9a42f",
        "colab": {
          "base_uri": "https://localhost:8080/",
          "height": 35
        }
      },
      "cell_type": "code",
      "source": [
        "len(y_test)"
      ],
      "execution_count": 0,
      "outputs": [
        {
          "output_type": "execute_result",
          "data": {
            "text/plain": [
              "33"
            ]
          },
          "metadata": {
            "tags": []
          },
          "execution_count": 75
        }
      ]
    },
    {
      "metadata": {
        "id": "cHbc1q7Gq0aL",
        "colab_type": "code",
        "outputId": "a7eb94ba-a765-4c11-c1aa-c30184933c8e",
        "colab": {
          "base_uri": "https://localhost:8080/",
          "height": 35
        }
      },
      "cell_type": "code",
      "source": [
        "cnt = 0\n",
        "tot = 0 \n",
        "for i in range(len(y_test)):\n",
        "  tot += 1\n",
        "  if y_test[i] == ytst[i]:\n",
        "    cnt+=1\n",
        "print(cnt/tot)"
      ],
      "execution_count": 0,
      "outputs": [
        {
          "output_type": "stream",
          "text": [
            "0.0\n"
          ],
          "name": "stdout"
        }
      ]
    },
    {
      "metadata": {
        "id": "zB1oXO7vrOEM",
        "colab_type": "code",
        "outputId": "6614233c-b5b9-47f6-913b-0a2cad27653d",
        "colab": {
          "base_uri": "https://localhost:8080/",
          "height": 618
        }
      },
      "cell_type": "code",
      "source": [
        "print(y_test)"
      ],
      "execution_count": 0,
      "outputs": [
        {
          "output_type": "stream",
          "text": [
            "[[0.91798234]\n",
            " [0.92905945]\n",
            " [0.9232502 ]\n",
            " [0.95141757]\n",
            " [0.9217501 ]\n",
            " [0.91253686]\n",
            " [0.93125415]\n",
            " [0.91753745]\n",
            " [0.9107006 ]\n",
            " [0.92760414]\n",
            " [0.92810714]\n",
            " [0.91301656]\n",
            " [0.9086584 ]\n",
            " [0.93090886]\n",
            " [0.90476245]\n",
            " [0.91783416]\n",
            " [0.9104201 ]\n",
            " [0.9158749 ]\n",
            " [0.9181424 ]\n",
            " [0.911237  ]\n",
            " [0.91270345]\n",
            " [0.90694743]\n",
            " [0.91198653]\n",
            " [0.95836204]\n",
            " [0.9330074 ]\n",
            " [0.9099878 ]\n",
            " [0.90836734]\n",
            " [0.91953087]\n",
            " [0.92179495]\n",
            " [0.91387117]\n",
            " [0.927004  ]\n",
            " [0.9173494 ]\n",
            " [0.90603644]]\n"
          ],
          "name": "stdout"
        }
      ]
    },
    {
      "metadata": {
        "id": "1XYuWYR-rRaG",
        "colab_type": "code",
        "outputId": "65d8c886-00fb-4299-d7a3-3f6443bfb33a",
        "colab": {
          "base_uri": "https://localhost:8080/",
          "height": 53
        }
      },
      "cell_type": "code",
      "source": [
        "print(ytst)"
      ],
      "execution_count": 0,
      "outputs": [
        {
          "output_type": "stream",
          "text": [
            "[1. 1. 1. 1. 1. 1. 1. 1. 1. 1. 0. 1. 1. 1. 1. 1. 1. 1. 0. 1. 1. 1. 0. 1.\n",
            " 1. 1. 1. 1. 1. 1. 1. 1. 1.]\n"
          ],
          "name": "stdout"
        }
      ]
    },
    {
      "metadata": {
        "id": "GZzZBEN0rVbN",
        "colab_type": "code",
        "colab": {}
      },
      "cell_type": "code",
      "source": [
        ""
      ],
      "execution_count": 0,
      "outputs": []
    }
  ]
}