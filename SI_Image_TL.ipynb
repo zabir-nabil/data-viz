{
  "nbformat": 4,
  "nbformat_minor": 0,
  "metadata": {
    "colab": {
      "name": "Monirul_Image_TL.ipynb",
      "version": "0.3.2",
      "provenance": [],
      "collapsed_sections": [],
      "include_colab_link": true
    },
    "kernelspec": {
      "name": "python3",
      "display_name": "Python 3"
    },
    "accelerator": "GPU"
  },
  "cells": [
    {
      "cell_type": "markdown",
      "metadata": {
        "id": "view-in-github",
        "colab_type": "text"
      },
      "source": [
        "<a href=\"https://colab.research.google.com/github/zabir-nabil/data-viz/blob/master/SI_Image_TL.ipynb\" target=\"_parent\"><img src=\"https://colab.research.google.com/assets/colab-badge.svg\" alt=\"Open In Colab\"/></a>"
      ]
    },
    {
      "metadata": {
        "id": "ip2eSf-fzCVF",
        "colab_type": "code",
        "colab": {}
      },
      "cell_type": "code",
      "source": [
        "# Drive link: https://drive.google.com/open?id=1fwY_jkx9VhJFxnaObScrum40atcC27rJ"
      ],
      "execution_count": 0,
      "outputs": []
    },
    {
      "metadata": {
        "id": "GERt3-dfzM2u",
        "colab_type": "code",
        "outputId": "ff42ed77-df36-42c4-a850-95faca7ffaab",
        "colab": {
          "base_uri": "https://localhost:8080/",
          "height": 128
        }
      },
      "cell_type": "code",
      "source": [
        "# Load the Drive helper and mount\n",
        "from google.colab import drive\n",
        "\n",
        "# This will prompt for authorization.\n",
        "drive.mount('/content/drive')"
      ],
      "execution_count": 0,
      "outputs": [
        {
          "output_type": "stream",
          "text": [
            "Go to this URL in a browser: https://accounts.google.com/o/oauth2/auth?client_id=947318989803-6bn6qk8qdgf4n4g3pfee6491hc0brc4i.apps.googleusercontent.com&redirect_uri=urn%3Aietf%3Awg%3Aoauth%3A2.0%3Aoob&scope=email%20https%3A%2F%2Fwww.googleapis.com%2Fauth%2Fdocs.test%20https%3A%2F%2Fwww.googleapis.com%2Fauth%2Fdrive%20https%3A%2F%2Fwww.googleapis.com%2Fauth%2Fdrive.photos.readonly%20https%3A%2F%2Fwww.googleapis.com%2Fauth%2Fpeopleapi.readonly&response_type=code\n",
            "\n",
            "Enter your authorization code:\n",
            "··········\n",
            "Mounted at /content/drive\n"
          ],
          "name": "stdout"
        }
      ]
    },
    {
      "metadata": {
        "id": "RnDz6y850EbX",
        "colab_type": "code",
        "outputId": "d3e1d836-cf0e-46eb-f61d-f88f0feab477",
        "colab": {
          "base_uri": "https://localhost:8080/",
          "height": 35
        }
      },
      "cell_type": "code",
      "source": [
        "% cd /content/drive/My Drive/EEG 2 Image Data"
      ],
      "execution_count": 0,
      "outputs": [
        {
          "output_type": "stream",
          "text": [
            "/content/drive/My Drive/EEG 2 Image Data\n"
          ],
          "name": "stdout"
        }
      ]
    },
    {
      "metadata": {
        "id": "hs-eaHGD0Z4e",
        "colab_type": "code",
        "outputId": "339db5cd-a480-4761-dffc-ba05b76b55f5",
        "colab": {
          "base_uri": "https://localhost:8080/",
          "height": 55
        }
      },
      "cell_type": "code",
      "source": [
        "import glob\n",
        "labels_f = []\n",
        "for labs in glob.glob('*.txt'):\n",
        "  #print(labs)\n",
        "  labels_f.append(labs)\n",
        "labels_f.sort()\n",
        "print(labels_f)"
      ],
      "execution_count": 0,
      "outputs": [
        {
          "output_type": "stream",
          "text": [
            "['labels_05.txt', 'labels_08.txt', 'labels_09.txt', 'labels_10.txt', 'labels_11.txt', 'labels_12.txt', 'labels_15.txt', 'labels_16.txt', 'labels_18.txt', 'labels_19.txt', 'labels_20.txt', 'labels_21.txt']\n"
          ],
          "name": "stdout"
        }
      ]
    },
    {
      "metadata": {
        "id": "B-jwbM8Cabai",
        "colab_type": "code",
        "colab": {}
      },
      "cell_type": "code",
      "source": [
        "subject_id = ['05', '08', '09', '10', '11', '12', '15', '16', '18', '19', '20', '21']"
      ],
      "execution_count": 0,
      "outputs": []
    },
    {
      "metadata": {
        "id": "SoIh_PNPvZ8V",
        "colab_type": "code",
        "outputId": "57825314-bd38-49cc-97c7-f30dd1b22e2c",
        "colab": {
          "base_uri": "https://localhost:8080/",
          "height": 35
        }
      },
      "cell_type": "code",
      "source": [
        "len('MM16/MM16_0.png')"
      ],
      "execution_count": 0,
      "outputs": [
        {
          "output_type": "execute_result",
          "data": {
            "text/plain": [
              "15"
            ]
          },
          "metadata": {
            "tags": []
          },
          "execution_count": 5
        }
      ]
    },
    {
      "metadata": {
        "id": "N6okftbNffK3",
        "colab_type": "code",
        "colab": {}
      },
      "cell_type": "code",
      "source": [
        "def rename_pad(s):\n",
        "  if len(s) == 15:\n",
        "    s = s[:-4]\n",
        "    c = s[-1]\n",
        "    s = s[:-1]\n",
        "    s += '00'\n",
        "    s += c\n",
        "    s += '.png'\n",
        "    return s\n",
        "  elif len(s) == 16:\n",
        "    s = s[:-4]\n",
        "    c = s[-2:]\n",
        "    s = s[:-2]\n",
        "    s += '0'\n",
        "    s += c\n",
        "    s += '.png'\n",
        "    return s\n",
        "  else:\n",
        "    return s\n",
        "  "
      ],
      "execution_count": 0,
      "outputs": []
    },
    {
      "metadata": {
        "id": "KalpshOmvywW",
        "colab_type": "code",
        "outputId": "af44f0ac-b661-465f-f9df-03c3e786074b",
        "colab": {
          "base_uri": "https://localhost:8080/",
          "height": 35
        }
      },
      "cell_type": "code",
      "source": [
        "rename_pad('MM16/MM16_10.png')"
      ],
      "execution_count": 0,
      "outputs": [
        {
          "output_type": "execute_result",
          "data": {
            "text/plain": [
              "'MM16/MM16_010.png'"
            ]
          },
          "metadata": {
            "tags": []
          },
          "execution_count": 7
        }
      ]
    },
    {
      "metadata": {
        "id": "MID2lBlGUmzz",
        "colab_type": "code",
        "outputId": "474832ed-6a78-4a49-ea2a-bd73b36c758d",
        "colab": {
          "base_uri": "https://localhost:8080/",
          "height": 35
        }
      },
      "cell_type": "code",
      "source": [
        "% cd /content/drive/My Drive/EEG 2 Image Data/GASF"
      ],
      "execution_count": 0,
      "outputs": [
        {
          "output_type": "stream",
          "text": [
            "/content/drive/My Drive/EEG 2 Image Data/GASF\n"
          ],
          "name": "stdout"
        }
      ]
    },
    {
      "metadata": {
        "id": "w1IjDDZraLoU",
        "colab_type": "code",
        "colab": {}
      },
      "cell_type": "code",
      "source": [
        "import cv2\n",
        "import os\n",
        "\n",
        "X = {}\n",
        "y = {}\n",
        "for id_ in subject_id:\n",
        "  img_names = []\n",
        "  for img_name in glob.glob('MM' + id_ + '/*.png'):\n",
        "    #print(img_name)\n",
        "    #os.rename(img_name, rename_pad(img_name))\n",
        "    img_names.append(img_name)\n",
        "    \n",
        "  img_names.sort()\n",
        "  px = []\n",
        "  for img_name in img_names:\n",
        "    a = cv2.imread(img_name)\n",
        "    a = cv2.resize(a, (224,224))\n",
        "    px.append(a)\n",
        "  \n",
        "  X[id_] = px\n"
      ],
      "execution_count": 0,
      "outputs": []
    },
    {
      "metadata": {
        "id": "-I8TtxNNfQ0h",
        "colab_type": "code",
        "outputId": "399b7027-597e-41e0-84a4-c8c02edd3dd8",
        "colab": {
          "base_uri": "https://localhost:8080/",
          "height": 35
        }
      },
      "cell_type": "code",
      "source": [
        "% cd /content/drive/My Drive/EEG 2 Image Data"
      ],
      "execution_count": 0,
      "outputs": [
        {
          "output_type": "stream",
          "text": [
            "/content/drive/My Drive/EEG 2 Image Data\n"
          ],
          "name": "stdout"
        }
      ]
    },
    {
      "metadata": {
        "id": "MPpmPsorfKCQ",
        "colab_type": "code",
        "colab": {}
      },
      "cell_type": "code",
      "source": [
        "for id_ in subject_id:  \n",
        "  with open('labels_' + id_ + '.txt') as f:\n",
        "    content = f.readlines()\n",
        "  content = [x.strip() for x in content] \n",
        "  #print(content)\n",
        "  py = []\n",
        "  for lab in content:\n",
        "    py.append(lab)\n",
        "  y[id_] = py"
      ],
      "execution_count": 0,
      "outputs": []
    },
    {
      "metadata": {
        "id": "R9xV3qeD2Mz7",
        "colab_type": "code",
        "outputId": "fce600fa-6013-46d5-b22b-745bd17ef139",
        "colab": {
          "base_uri": "https://localhost:8080/",
          "height": 53
        }
      },
      "cell_type": "code",
      "source": [
        "xx = X['16']\n",
        "#xx.sort()\n",
        "print(len(xx))\n",
        "print(xx[0].shape)"
      ],
      "execution_count": 0,
      "outputs": [
        {
          "output_type": "stream",
          "text": [
            "132\n",
            "(224, 224, 3)\n"
          ],
          "name": "stdout"
        }
      ]
    },
    {
      "metadata": {
        "id": "OgrAR_-TiV9Q",
        "colab_type": "code",
        "outputId": "b462d836-bc97-4cbf-d8a0-f7ee548d6872",
        "colab": {
          "base_uri": "https://localhost:8080/",
          "height": 454
        }
      },
      "cell_type": "code",
      "source": [
        "for id_ in subject_id:\n",
        "  print(id_,' ',len(X[id_]))\n",
        "  print(id_,' ',len(y[id_]))"
      ],
      "execution_count": 0,
      "outputs": [
        {
          "output_type": "stream",
          "text": [
            "05   165\n",
            "05   165\n",
            "08   131\n",
            "08   131\n",
            "09   132\n",
            "09   132\n",
            "10   132\n",
            "10   132\n",
            "11   132\n",
            "11   132\n",
            "12   132\n",
            "12   132\n",
            "15   132\n",
            "15   132\n",
            "16   132\n",
            "16   132\n",
            "18   132\n",
            "18   132\n",
            "19   132\n",
            "19   132\n",
            "20   132\n",
            "20   132\n",
            "21   132\n",
            "21   132\n"
          ],
          "name": "stdout"
        }
      ]
    },
    {
      "metadata": {
        "id": "PsEgynWMkldr",
        "colab_type": "code",
        "outputId": "9d4790bb-b27f-46ed-cdae-ed7a4e8e3cc0",
        "colab": {
          "base_uri": "https://localhost:8080/",
          "height": 53
        }
      },
      "cell_type": "code",
      "source": [
        "print(len(X['05']))\n",
        "print(X['05'][0].shape)"
      ],
      "execution_count": 0,
      "outputs": [
        {
          "output_type": "stream",
          "text": [
            "165\n",
            "(224, 224, 3)\n"
          ],
          "name": "stdout"
        }
      ]
    },
    {
      "metadata": {
        "id": "PqK4xSjeiN0x",
        "colab_type": "code",
        "colab": {}
      },
      "cell_type": "code",
      "source": [
        "X_a = []\n",
        "y_a = []\n",
        "\n",
        "for id_ in subject_id:\n",
        "  for i in range(len(X[id_])):\n",
        "    X_a.append(X[id_][i])\n",
        "    y_a.append(y[id_][i])\n"
      ],
      "execution_count": 0,
      "outputs": []
    },
    {
      "metadata": {
        "id": "MBxJCZVFnV4T",
        "colab_type": "code",
        "outputId": "c298091b-186c-45b6-8cf3-e7a51614cc37",
        "colab": {
          "base_uri": "https://localhost:8080/",
          "height": 90
        }
      },
      "cell_type": "code",
      "source": [
        "print(len(X_a))\n",
        "print(len(y_a))\n",
        "print(X_a[0].shape)\n",
        "print(y_a[0])"
      ],
      "execution_count": 0,
      "outputs": [
        {
          "output_type": "stream",
          "text": [
            "1616\n",
            "1616\n",
            "(224, 224, 3)\n",
            "/uw/\n"
          ],
          "name": "stdout"
        }
      ]
    },
    {
      "metadata": {
        "id": "srWA4b7HZLKe",
        "colab_type": "code",
        "outputId": "813b32e8-d94f-4744-f262-606318be7e42",
        "colab": {
          "base_uri": "https://localhost:8080/",
          "height": 55
        }
      },
      "cell_type": "code",
      "source": [
        "'''\n",
        "from sklearn.preprocessing import LabelBinarizer\n",
        "encoder = LabelBinarizer()\n",
        "y_a = encoder.fit_transform(y_a)\n",
        "print(y_a)\n",
        "'''"
      ],
      "execution_count": 0,
      "outputs": [
        {
          "output_type": "execute_result",
          "data": {
            "text/plain": [
              "'\\nfrom sklearn.preprocessing import LabelBinarizer\\nencoder = LabelBinarizer()\\ny_a = encoder.fit_transform(y_a)\\nprint(y_a)\\n'"
            ]
          },
          "metadata": {
            "tags": []
          },
          "execution_count": 50
        }
      ]
    },
    {
      "metadata": {
        "id": "UO8dUOwr2jrl",
        "colab_type": "code",
        "colab": {}
      },
      "cell_type": "code",
      "source": [
        "import numpy as np\n",
        "#y_a = np.array(y_a)\n",
        "#y_a.shape"
      ],
      "execution_count": 0,
      "outputs": []
    },
    {
      "metadata": {
        "id": "S_rObEOM0VmQ",
        "colab_type": "code",
        "colab": {}
      },
      "cell_type": "code",
      "source": [
        "import random\n",
        "random.seed(1997) # same seed again\n",
        "\n",
        "fin_arr = list(zip(X_a, y_a))\n",
        "random.shuffle(fin_arr)\n",
        "img_arr = [x[0] for x in fin_arr]\n",
        "labels = [x[1] for x in fin_arr]"
      ],
      "execution_count": 0,
      "outputs": []
    },
    {
      "metadata": {
        "id": "1RoWH7GrrHh9",
        "colab_type": "code",
        "outputId": "ad4c76b5-2b84-4070-e51a-0ff3a11efb1f",
        "colab": {
          "base_uri": "https://localhost:8080/",
          "height": 73
        }
      },
      "cell_type": "code",
      "source": [
        "print(labels)\n",
        "print(img_arr[0].shape)"
      ],
      "execution_count": 0,
      "outputs": [
        {
          "output_type": "stream",
          "text": [
            "['knew', '/iy/', '/diy/', '/n/', 'gnaw', '/n/', '/n/', '/tiy/', 'pot', 'gnaw', '/n/', '/uw/', '/piy/', 'pot', '/iy/', 'gnaw', '/iy/', '/diy/', 'gnaw', '/uw/', 'gnaw', '/tiy/', '/tiy/', '/diy/', '/m/', 'gnaw', '/uw/', '/iy/', '/m/', 'pat', '/diy/', '/uw/', '/m/', 'pat', '/iy/', '/uw/', '/m/', '/tiy/', '/piy/', '/uw/', '/tiy/', 'knew', 'gnaw', '/n/', '/uw/', '/tiy/', '/m/', 'pat', '/m/', 'gnaw', '/tiy/', '/m/', '/iy/', 'pat', 'pat', '/uw/', 'pot', '/iy/', 'pot', '/uw/', '/iy/', '/iy/', '/diy/', 'knew', '/iy/', '/iy/', '/tiy/', 'pot', '/tiy/', '/n/', '/m/', 'pat', '/piy/', '/iy/', '/diy/', '/m/', '/n/', '/iy/', '/n/', '/diy/', 'gnaw', '/uw/', 'pat', '/diy/', '/m/', 'pat', 'knew', '/iy/', '/iy/', 'gnaw', '/m/', '/tiy/', '/m/', 'knew', 'pat', '/diy/', 'pot', '/diy/', '/tiy/', 'pat', '/uw/', 'pot', '/uw/', '/diy/', 'pot', 'pot', '/n/', '/n/', '/m/', 'knew', '/n/', 'knew', '/tiy/', 'pat', '/m/', 'knew', 'knew', '/n/', 'knew', 'gnaw', '/m/', '/tiy/', '/diy/', 'pot', '/iy/', '/tiy/', '/piy/', '/m/', '/iy/', 'knew', 'gnaw', '/uw/', 'knew', 'pot', '/diy/', 'gnaw', 'pat', 'gnaw', '/piy/', 'knew', '/m/', 'knew', 'knew', '/uw/', '/uw/', '/uw/', 'pat', '/tiy/', '/piy/', '/n/', '/uw/', '/piy/', '/uw/', '/diy/', '/m/', 'pot', '/iy/', '/diy/', 'gnaw', '/m/', 'pat', '/uw/', 'pot', '/uw/', '/piy/', '/iy/', '/m/', 'gnaw', 'knew', '/uw/', '/n/', '/tiy/', '/m/', '/tiy/', '/m/', '/tiy/', '/piy/', '/iy/', 'knew', 'pot', 'gnaw', '/uw/', '/diy/', '/n/', '/n/', '/iy/', '/tiy/', 'knew', 'pot', '/piy/', '/uw/', 'gnaw', 'knew', '/iy/', '/tiy/', 'knew', 'pot', '/iy/', '/diy/', '/n/', '/diy/', '/n/', 'knew', '/m/', '/m/', '/tiy/', 'knew', '/m/', '/uw/', 'knew', 'knew', '/m/', 'pot', '/m/', 'gnaw', '/tiy/', 'knew', '/uw/', '/n/', 'pat', '/diy/', '/m/', 'gnaw', 'knew', '/uw/', '/uw/', '/m/', 'gnaw', '/iy/', '/iy/', '/m/', 'gnaw', '/tiy/', 'knew', '/piy/', '/diy/', '/tiy/', 'knew', '/n/', '/tiy/', '/iy/', '/n/', '/tiy/', '/uw/', 'knew', 'knew', 'gnaw', '/uw/', '/m/', '/diy/', '/m/', 'knew', '/m/', '/iy/', 'pot', '/iy/', '/uw/', '/diy/', 'gnaw', 'gnaw', 'gnaw', '/tiy/', '/tiy/', '/tiy/', '/m/', '/tiy/', 'knew', 'pat', 'pot', 'knew', 'knew', 'pot', 'knew', 'pot', '/iy/', '/piy/', 'gnaw', 'knew', '/uw/', '/m/', '/m/', '/uw/', '/tiy/', '/piy/', '/uw/', '/iy/', '/iy/', '/tiy/', '/uw/', 'gnaw', '/diy/', '/piy/', '/piy/', 'pot', 'gnaw', '/tiy/', 'knew', '/tiy/', 'pat', 'pat', '/tiy/', '/diy/', '/piy/', 'gnaw', 'gnaw', '/uw/', '/piy/', 'pat', 'knew', 'pat', '/iy/', '/piy/', '/iy/', '/diy/', '/m/', '/diy/', '/piy/', '/m/', 'knew', '/n/', '/iy/', '/uw/', 'pat', 'pat', 'pat', 'gnaw', '/iy/', '/tiy/', '/uw/', 'pot', '/piy/', 'pat', '/piy/', 'knew', '/tiy/', 'pot', '/diy/', 'pat', '/m/', '/iy/', '/diy/', '/m/', '/iy/', '/diy/', '/piy/', '/m/', 'pot', 'pot', '/m/', 'pat', '/m/', '/iy/', '/uw/', 'gnaw', '/tiy/', '/n/', 'pot', 'knew', '/piy/', '/piy/', 'pat', '/uw/', 'gnaw', 'pot', 'gnaw', '/diy/', '/n/', '/tiy/', 'pat', '/m/', '/diy/', '/iy/', 'gnaw', '/diy/', 'pot', 'knew', 'gnaw', '/tiy/', '/tiy/', 'gnaw', '/diy/', '/piy/', 'pat', '/diy/', '/iy/', '/uw/', '/diy/', '/uw/', '/diy/', '/m/', '/m/', 'knew', '/tiy/', 'knew', '/piy/', 'pat', '/piy/', '/n/', '/n/', 'pat', 'pat', '/piy/', '/piy/', '/tiy/', 'gnaw', 'knew', '/piy/', 'knew', 'knew', '/iy/', '/piy/', '/tiy/', 'gnaw', '/piy/', 'knew', '/piy/', '/m/', '/tiy/', '/m/', '/n/', 'pot', '/piy/', 'pat', 'gnaw', 'knew', '/n/', '/uw/', 'pat', '/uw/', 'knew', 'knew', 'pot', '/tiy/', '/m/', '/piy/', '/diy/', '/m/', 'knew', '/uw/', '/diy/', '/diy/', 'pot', '/n/', 'pot', '/m/', 'pat', 'pot', 'pat', '/n/', '/m/', 'gnaw', '/uw/', '/piy/', '/diy/', 'knew', 'pot', 'gnaw', '/piy/', 'gnaw', 'pat', '/n/', '/n/', '/piy/', 'pot', '/uw/', 'pot', 'pot', 'pot', '/m/', 'gnaw', '/piy/', '/tiy/', '/diy/', '/uw/', '/iy/', '/piy/', 'knew', '/piy/', 'gnaw', '/m/', '/m/', '/m/', 'gnaw', 'gnaw', 'knew', '/diy/', 'pat', 'pat', '/iy/', 'pat', '/uw/', '/n/', 'knew', '/tiy/', '/iy/', '/piy/', '/iy/', '/uw/', 'pat', 'pat', 'knew', '/iy/', 'pat', '/m/', '/piy/', '/n/', 'pot', 'pot', 'gnaw', '/tiy/', '/uw/', '/piy/', 'pot', 'knew', 'pat', '/piy/', 'pot', '/m/', 'pot', 'knew', '/m/', '/tiy/', '/tiy/', 'pat', '/tiy/', '/iy/', '/uw/', 'pot', '/uw/', 'gnaw', '/iy/', 'gnaw', '/diy/', 'knew', '/m/', '/uw/', '/iy/', '/n/', '/piy/', 'gnaw', 'pot', '/tiy/', 'pat', '/n/', '/uw/', '/diy/', '/m/', '/diy/', '/n/', '/uw/', '/n/', 'pot', 'pat', 'pat', '/piy/', '/tiy/', 'knew', '/diy/', 'pot', 'gnaw', 'pot', '/tiy/', 'gnaw', '/m/', '/diy/', 'gnaw', '/tiy/', '/piy/', '/m/', '/iy/', '/piy/', 'pot', 'pat', '/diy/', '/piy/', '/iy/', '/n/', '/diy/', '/diy/', '/diy/', '/uw/', '/n/', 'knew', '/uw/', 'knew', '/n/', 'gnaw', '/m/', '/n/', '/uw/', '/piy/', '/tiy/', 'pot', 'pot', '/n/', 'pot', '/n/', '/m/', 'pat', '/uw/', '/uw/', '/diy/', '/diy/', '/tiy/', 'knew', 'knew', 'knew', '/diy/', '/m/', '/n/', '/tiy/', 'gnaw', '/uw/', '/n/', 'pot', '/uw/', '/iy/', 'gnaw', '/m/', '/n/', 'gnaw', '/uw/', '/uw/', '/tiy/', '/diy/', '/iy/', '/n/', '/tiy/', '/m/', '/piy/', 'gnaw', 'pot', '/iy/', '/diy/', 'knew', '/uw/', 'gnaw', '/n/', '/iy/', 'pot', '/uw/', '/piy/', '/tiy/', '/n/', '/uw/', 'gnaw', '/diy/', '/uw/', 'pat', 'pat', 'knew', '/piy/', '/n/', '/iy/', 'pat', 'gnaw', '/n/', '/piy/', '/uw/', '/n/', 'pot', '/n/', '/uw/', '/tiy/', 'knew', '/n/', '/diy/', '/tiy/', '/diy/', '/uw/', 'pot', '/piy/', '/m/', '/n/', 'gnaw', '/n/', '/tiy/', '/iy/', '/tiy/', '/piy/', '/n/', '/n/', '/n/', '/iy/', '/m/', 'pot', '/piy/', 'knew', '/iy/', '/tiy/', '/diy/', '/diy/', 'pot', '/n/', 'gnaw', '/m/', '/tiy/', 'pot', 'pat', '/n/', '/uw/', '/tiy/', '/iy/', '/n/', 'pat', 'gnaw', '/m/', '/n/', '/diy/', '/iy/', 'gnaw', 'pat', 'pat', '/piy/', 'knew', 'knew', 'pot', 'pat', '/tiy/', 'knew', '/uw/', '/piy/', '/piy/', '/n/', '/uw/', '/n/', '/diy/', 'gnaw', 'pot', '/piy/', '/m/', '/iy/', '/iy/', '/diy/', '/piy/', '/n/', 'gnaw', '/iy/', '/uw/', 'pat', '/n/', 'knew', 'knew', '/n/', '/iy/', '/m/', '/n/', '/uw/', '/piy/', 'pot', '/m/', '/m/', 'gnaw', 'gnaw', '/piy/', 'gnaw', '/tiy/', '/iy/', '/n/', '/piy/', '/diy/', 'pat', 'pot', '/n/', '/piy/', 'pat', '/n/', 'gnaw', '/piy/', '/m/', 'pot', 'pat', 'knew', '/m/', 'gnaw', 'pot', 'knew', '/uw/', '/piy/', '/uw/', '/m/', '/uw/', '/iy/', 'pat', '/uw/', '/iy/', 'pot', '/diy/', '/diy/', '/tiy/', 'pot', '/piy/', 'knew', '/piy/', 'knew', '/iy/', '/uw/', '/diy/', '/iy/', 'gnaw', 'pot', 'pot', '/uw/', '/piy/', 'pat', '/piy/', '/piy/', '/m/', '/uw/', '/uw/', 'pat', '/tiy/', '/m/', '/n/', 'pot', '/iy/', '/uw/', 'pat', 'pat', '/n/', '/iy/', '/tiy/', '/piy/', '/iy/', 'pat', '/piy/', 'pat', 'gnaw', '/uw/', 'pat', 'pat', '/iy/', 'gnaw', '/iy/', 'gnaw', '/uw/', 'gnaw', 'pat', '/diy/', '/piy/', 'pat', '/n/', '/iy/', 'knew', '/piy/', 'pot', 'knew', 'pot', '/n/', '/tiy/', '/m/', '/m/', 'gnaw', '/n/', 'pat', '/iy/', '/m/', 'pat', '/piy/', 'pot', '/n/', '/uw/', '/diy/', 'pot', 'gnaw', 'knew', '/diy/', '/diy/', '/diy/', '/tiy/', '/tiy/', 'pot', '/diy/', '/uw/', 'gnaw', 'pot', 'gnaw', '/n/', '/uw/', 'knew', '/m/', 'pot', '/m/', '/uw/', 'pot', '/uw/', 'pot', '/piy/', '/uw/', '/uw/', '/m/', '/iy/', '/piy/', '/diy/', 'pot', '/m/', '/diy/', '/n/', '/diy/', '/n/', 'pat', '/uw/', '/piy/', '/n/', '/tiy/', 'gnaw', '/m/', 'gnaw', '/uw/', 'knew', '/tiy/', '/n/', '/n/', '/n/', 'pot', '/piy/', '/m/', '/uw/', 'pat', 'pat', 'gnaw', 'knew', '/piy/', 'pat', '/diy/', '/n/', '/diy/', '/diy/', '/iy/', 'pat', 'pat', '/iy/', '/diy/', '/piy/', '/iy/', '/piy/', 'knew', '/uw/', 'knew', 'gnaw', 'pot', 'knew', 'gnaw', 'gnaw', '/iy/', '/iy/', 'gnaw', '/diy/', 'gnaw', 'pat', 'knew', '/n/', '/n/', 'pat', '/iy/', '/uw/', 'gnaw', '/n/', '/m/', '/m/', 'gnaw', '/n/', '/n/', 'pat', '/tiy/', 'pat', '/uw/', '/iy/', 'pat', '/piy/', 'knew', '/uw/', '/diy/', '/n/', '/uw/', 'knew', '/uw/', '/n/', '/diy/', '/piy/', '/n/', 'pat', '/piy/', 'knew', '/diy/', 'knew', '/diy/', 'pat', '/uw/', 'knew', '/m/', '/m/', '/tiy/', '/m/', '/n/', '/uw/', '/piy/', '/tiy/', 'gnaw', 'knew', '/piy/', '/n/', '/tiy/', '/m/', '/diy/', '/diy/', 'pot', '/uw/', 'knew', '/tiy/', 'gnaw', '/tiy/', '/m/', 'pot', '/iy/', '/m/', '/tiy/', 'pat', '/n/', 'pot', '/tiy/', 'pat', '/tiy/', '/m/', 'knew', 'pat', '/m/', 'gnaw', '/uw/', '/diy/', '/tiy/', '/tiy/', '/tiy/', 'pat', 'gnaw', '/n/', 'knew', '/diy/', 'gnaw', '/m/', '/tiy/', '/tiy/', '/tiy/', '/diy/', 'gnaw', 'pot', '/n/', '/n/', 'pot', 'knew', 'gnaw', '/diy/', '/piy/', 'gnaw', '/n/', 'pot', 'gnaw', '/n/', '/n/', '/n/', '/m/', '/tiy/', '/m/', '/uw/', '/piy/', '/iy/', '/n/', 'knew', 'pot', '/m/', '/iy/', '/tiy/', 'pot', '/iy/', '/m/', 'gnaw', '/m/', 'pot', 'pot', '/tiy/', '/iy/', 'knew', '/iy/', 'pot', '/piy/', 'pat', 'gnaw', '/tiy/', 'pat', 'pat', '/m/', '/m/', '/iy/', '/m/', 'pot', '/piy/', '/piy/', '/piy/', 'knew', '/uw/', 'pat', 'gnaw', '/piy/', '/m/', '/tiy/', '/m/', '/m/', '/uw/', '/diy/', '/iy/', '/m/', 'knew', '/tiy/', '/piy/', '/diy/', '/n/', 'knew', '/diy/', 'gnaw', 'pat', '/piy/', 'knew', '/iy/', '/diy/', 'gnaw', '/uw/', '/tiy/', '/tiy/', '/n/', '/n/', 'pot', '/uw/', '/diy/', '/iy/', 'pat', '/diy/', 'pat', '/iy/', 'pot', '/piy/', '/tiy/', '/tiy/', '/m/', '/tiy/', '/diy/', '/diy/', 'knew', 'knew', '/n/', '/piy/', 'pot', '/iy/', 'pat', '/n/', 'gnaw', '/uw/', 'gnaw', '/piy/', '/uw/', 'gnaw', 'pot', '/n/', '/m/', '/tiy/', '/tiy/', 'knew', '/uw/', '/n/', '/diy/', '/uw/', '/diy/', '/iy/', '/tiy/', 'pot', '/tiy/', 'pat', 'gnaw', '/iy/', '/diy/', '/piy/', '/uw/', 'knew', '/iy/', '/piy/', 'knew', 'gnaw', '/iy/', 'gnaw', '/piy/', 'gnaw', '/m/', '/iy/', 'pot', '/m/', '/uw/', '/uw/', '/diy/', '/n/', '/iy/', '/iy/', 'pat', '/iy/', 'knew', 'knew', '/diy/', '/n/', '/diy/', 'gnaw', '/tiy/', '/n/', '/n/', 'knew', '/piy/', 'pot', '/m/', '/tiy/', '/uw/', '/piy/', 'pat', '/n/', '/piy/', 'pot', 'knew', 'gnaw', '/piy/', 'pot', '/tiy/', 'knew', 'pat', 'pot', '/diy/', 'pot', 'pat', 'pot', '/uw/', 'pat', '/iy/', '/iy/', 'knew', '/iy/', '/uw/', '/tiy/', '/tiy/', 'gnaw', 'knew', 'gnaw', 'gnaw', '/uw/', '/m/', 'pat', 'pot', 'pot', '/m/', '/iy/', 'pot', '/m/', '/uw/', '/iy/', '/iy/', '/diy/', 'knew', '/diy/', '/tiy/', '/n/', '/piy/', '/iy/', '/piy/', '/m/', '/iy/', 'gnaw', '/uw/', 'pat', '/piy/', '/piy/', '/m/', '/diy/', 'gnaw', '/tiy/', '/tiy/', '/iy/', '/diy/', '/uw/', 'knew', '/n/', '/piy/', '/tiy/', 'gnaw', '/tiy/', '/piy/', 'pot', '/iy/', '/n/', '/m/', '/iy/', '/iy/', '/iy/', 'pat', '/n/', '/tiy/', 'pat', '/diy/', '/diy/', '/tiy/', '/tiy/', '/diy/', '/m/', '/piy/', '/n/', '/n/', '/diy/', '/n/', 'gnaw', 'gnaw', 'pot', '/m/', '/n/', '/diy/', '/m/', 'pat', 'pat', '/piy/', 'pat', 'pat', 'knew', 'pat', '/tiy/', 'gnaw', 'gnaw', 'pat', '/m/', '/diy/', '/piy/', '/m/', '/iy/', '/diy/', 'gnaw', '/diy/', 'gnaw', '/m/', 'pot', 'pot', '/tiy/', 'knew', '/piy/', 'pot', '/iy/', '/tiy/', 'pat', 'pot', '/uw/', 'pot', '/iy/', '/diy/', 'pot', '/diy/', '/uw/', '/diy/', '/tiy/', '/m/', '/m/', '/piy/', '/tiy/', '/iy/', '/m/', 'knew', '/n/', '/m/', '/m/', '/uw/', '/n/', 'pat', '/piy/', 'gnaw', 'gnaw', '/m/', '/piy/', 'knew', 'pat', '/piy/', 'pot', '/iy/', 'gnaw', 'pot', '/tiy/', 'knew', 'pat', 'pot', '/n/', '/uw/', '/uw/', '/uw/', 'knew', '/tiy/', 'gnaw', '/uw/', 'knew', '/uw/', 'pat', 'gnaw', '/uw/', '/piy/', 'pat', 'pot', '/iy/', '/diy/', 'pat', 'knew', 'pat', 'pot', '/piy/', 'pat', 'pat', 'knew', '/n/', '/diy/', 'pot', 'pat', 'pat', 'knew', '/diy/', '/uw/', 'gnaw', 'knew', 'knew', 'pot', 'pat', '/m/', 'pat', 'gnaw', '/diy/', '/diy/', '/uw/', '/tiy/', '/diy/', 'gnaw', '/m/', '/m/', 'pot', '/piy/', '/n/', 'gnaw', '/uw/', '/tiy/', 'knew', 'knew', '/iy/', '/m/', 'gnaw', '/n/', '/piy/', '/iy/', '/diy/', '/iy/', 'pot', 'pat', '/tiy/', '/n/', '/piy/', '/iy/', '/diy/', 'knew', 'pat', '/n/', 'gnaw', 'pat', '/tiy/', '/diy/', 'pat', '/piy/', '/tiy/', '/m/', 'gnaw', '/tiy/', '/iy/', 'knew', 'pot', 'pot', 'knew', 'pat', '/iy/', 'pot', 'knew', '/iy/', '/diy/', '/diy/', 'pot', '/piy/', 'pat', '/n/', 'pot', '/uw/', '/piy/', '/diy/', '/diy/', '/diy/', '/piy/', '/piy/', '/diy/', 'gnaw', '/tiy/', 'pat', '/tiy/', 'pot', '/piy/', '/piy/', 'pot', '/piy/', '/diy/', '/uw/', '/n/', '/iy/', '/tiy/', '/piy/', '/piy/', '/m/', '/n/', '/n/', '/diy/', '/iy/', 'gnaw', 'gnaw', '/diy/', 'pat', '/iy/', '/tiy/', '/iy/', 'pot', '/piy/', '/n/', '/n/', '/diy/', '/piy/', '/n/', '/m/', '/piy/', 'knew', 'pot', '/diy/', '/tiy/', 'pat', '/diy/', '/iy/', 'pot', '/n/', '/uw/', '/n/', 'pat', '/diy/', 'gnaw', '/m/', '/piy/', '/iy/', '/n/', '/diy/', 'knew', 'pat', '/piy/', '/iy/', '/n/', 'pat', 'pat', '/tiy/', 'gnaw', '/uw/', 'knew', '/m/', 'knew', '/piy/', '/tiy/', 'knew', '/uw/', 'pat', '/iy/', '/piy/', '/iy/', '/iy/', '/iy/', '/m/', '/n/', 'pat', 'pot', 'pot', '/diy/', '/diy/', '/tiy/', 'pot', '/tiy/', 'pot', 'knew', 'gnaw', 'pot', '/tiy/', '/m/', 'knew', 'pot', 'knew', '/piy/', '/uw/', '/iy/', '/tiy/', '/tiy/', 'pot', '/iy/', '/uw/', 'pat', '/n/', 'pot', 'pat', 'pot', '/iy/', '/uw/', 'knew', '/uw/', 'knew', '/iy/', 'gnaw']\n",
            "(224, 224, 3)\n"
          ],
          "name": "stdout"
        }
      ]
    },
    {
      "metadata": {
        "id": "xL49ULoKtfis",
        "colab_type": "code",
        "colab": {}
      },
      "cell_type": "code",
      "source": [
        "import numpy as np"
      ],
      "execution_count": 0,
      "outputs": []
    },
    {
      "metadata": {
        "id": "ukDC2q8J5e4j",
        "colab_type": "code",
        "colab": {}
      },
      "cell_type": "code",
      "source": [
        ""
      ],
      "execution_count": 0,
      "outputs": []
    },
    {
      "metadata": {
        "id": "30fvq1wbrkG1",
        "colab_type": "code",
        "colab": {}
      },
      "cell_type": "code",
      "source": [
        "def extract_features(model, img):\n",
        "  x = img\n",
        "  # print(x.shape)\n",
        "  x = np.expand_dims(x, axis=0)\n",
        "  # print(x.shape)\n",
        "  x = np.array(x, dtype='float64')\n",
        "  x = preprocess_input(x)\n",
        "\n",
        "  features = model.predict(x)\n",
        "  features = features.flatten()\n",
        "  return features\n",
        "\n",
        "\n",
        "def generate_feature_vec(model):\n",
        "  X = []\n",
        "  y = labels[:]\n",
        "\n",
        "  for i in range(len(img_arr)):\n",
        "    img = img_arr[i]\n",
        "    f_set = extract_features(model, img)\n",
        "    X.append(f_set)\n",
        "    \n",
        "  return (X,y)"
      ],
      "execution_count": 0,
      "outputs": []
    },
    {
      "metadata": {
        "id": "shTJ9AnUsK_O",
        "colab_type": "code",
        "outputId": "3ed3b018-0ea2-4909-aec6-00697e1bb83e",
        "colab": {
          "base_uri": "https://localhost:8080/",
          "height": 72
        }
      },
      "cell_type": "code",
      "source": [
        "from keras.applications.resnet50 import ResNet50\n",
        "from keras.preprocessing import image\n",
        "from keras.applications.resnet50 import preprocess_input\n",
        "\n",
        "model = ResNet50(weights='imagenet', include_top=False)\n",
        "(X_res50, y) = generate_feature_vec(model)\n",
        "print(len(X_res50))\n",
        "print(X_res50[0].shape)\n",
        "print(len(y))"
      ],
      "execution_count": 0,
      "outputs": [
        {
          "output_type": "stream",
          "text": [
            "1616\n",
            "(2048,)\n",
            "1616\n"
          ],
          "name": "stdout"
        }
      ]
    },
    {
      "metadata": {
        "id": "gP4ARU5X8Ley",
        "colab_type": "code",
        "outputId": "f920fe3e-609c-49b1-facc-c2d2b831f71c",
        "colab": {
          "base_uri": "https://localhost:8080/",
          "height": 53
        }
      },
      "cell_type": "code",
      "source": [
        "print(len(labels))\n",
        "y = labels[:]\n",
        "print(len(y))"
      ],
      "execution_count": 0,
      "outputs": [
        {
          "output_type": "stream",
          "text": [
            "1616\n",
            "1616\n"
          ],
          "name": "stdout"
        }
      ]
    },
    {
      "metadata": {
        "id": "B1XTfD8NtKN_",
        "colab_type": "code",
        "outputId": "0de97c5e-bde8-4723-b98d-641058406f96",
        "colab": {
          "base_uri": "https://localhost:8080/",
          "height": 35
        }
      },
      "cell_type": "code",
      "source": [
        "from sklearn.preprocessing import StandardScaler\n",
        "\n",
        "scaler = StandardScaler()\n",
        "scaler.fit(X_res50)\n",
        "\n",
        "print(scaler.mean_)\n",
        "\n",
        "\n",
        "X = scaler.transform(X_res50)"
      ],
      "execution_count": 0,
      "outputs": [
        {
          "output_type": "stream",
          "text": [
            "[0.27353607 0.03007174 0.01124313 ... 0.68266513 0.8287192  0.07944959]\n"
          ],
          "name": "stdout"
        }
      ]
    },
    {
      "metadata": {
        "id": "HCSAj0GWveWQ",
        "colab_type": "code",
        "outputId": "ab6e8283-0a3d-4254-b42a-187995d4ad63",
        "colab": {
          "base_uri": "https://localhost:8080/",
          "height": 55
        }
      },
      "cell_type": "code",
      "source": [
        "print(y)"
      ],
      "execution_count": 0,
      "outputs": [
        {
          "output_type": "stream",
          "text": [
            "['knew', '/iy/', '/diy/', '/n/', 'gnaw', '/n/', '/n/', '/tiy/', 'pot', 'gnaw', '/n/', '/uw/', '/piy/', 'pot', '/iy/', 'gnaw', '/iy/', '/diy/', 'gnaw', '/uw/', 'gnaw', '/tiy/', '/tiy/', '/diy/', '/m/', 'gnaw', '/uw/', '/iy/', '/m/', 'pat', '/diy/', '/uw/', '/m/', 'pat', '/iy/', '/uw/', '/m/', '/tiy/', '/piy/', '/uw/', '/tiy/', 'knew', 'gnaw', '/n/', '/uw/', '/tiy/', '/m/', 'pat', '/m/', 'gnaw', '/tiy/', '/m/', '/iy/', 'pat', 'pat', '/uw/', 'pot', '/iy/', 'pot', '/uw/', '/iy/', '/iy/', '/diy/', 'knew', '/iy/', '/iy/', '/tiy/', 'pot', '/tiy/', '/n/', '/m/', 'pat', '/piy/', '/iy/', '/diy/', '/m/', '/n/', '/iy/', '/n/', '/diy/', 'gnaw', '/uw/', 'pat', '/diy/', '/m/', 'pat', 'knew', '/iy/', '/iy/', 'gnaw', '/m/', '/tiy/', '/m/', 'knew', 'pat', '/diy/', 'pot', '/diy/', '/tiy/', 'pat', '/uw/', 'pot', '/uw/', '/diy/', 'pot', 'pot', '/n/', '/n/', '/m/', 'knew', '/n/', 'knew', '/tiy/', 'pat', '/m/', 'knew', 'knew', '/n/', 'knew', 'gnaw', '/m/', '/tiy/', '/diy/', 'pot', '/iy/', '/tiy/', '/piy/', '/m/', '/iy/', 'knew', 'gnaw', '/uw/', 'knew', 'pot', '/diy/', 'gnaw', 'pat', 'gnaw', '/piy/', 'knew', '/m/', 'knew', 'knew', '/uw/', '/uw/', '/uw/', 'pat', '/tiy/', '/piy/', '/n/', '/uw/', '/piy/', '/uw/', '/diy/', '/m/', 'pot', '/iy/', '/diy/', 'gnaw', '/m/', 'pat', '/uw/', 'pot', '/uw/', '/piy/', '/iy/', '/m/', 'gnaw', 'knew', '/uw/', '/n/', '/tiy/', '/m/', '/tiy/', '/m/', '/tiy/', '/piy/', '/iy/', 'knew', 'pot', 'gnaw', '/uw/', '/diy/', '/n/', '/n/', '/iy/', '/tiy/', 'knew', 'pot', '/piy/', '/uw/', 'gnaw', 'knew', '/iy/', '/tiy/', 'knew', 'pot', '/iy/', '/diy/', '/n/', '/diy/', '/n/', 'knew', '/m/', '/m/', '/tiy/', 'knew', '/m/', '/uw/', 'knew', 'knew', '/m/', 'pot', '/m/', 'gnaw', '/tiy/', 'knew', '/uw/', '/n/', 'pat', '/diy/', '/m/', 'gnaw', 'knew', '/uw/', '/uw/', '/m/', 'gnaw', '/iy/', '/iy/', '/m/', 'gnaw', '/tiy/', 'knew', '/piy/', '/diy/', '/tiy/', 'knew', '/n/', '/tiy/', '/iy/', '/n/', '/tiy/', '/uw/', 'knew', 'knew', 'gnaw', '/uw/', '/m/', '/diy/', '/m/', 'knew', '/m/', '/iy/', 'pot', '/iy/', '/uw/', '/diy/', 'gnaw', 'gnaw', 'gnaw', '/tiy/', '/tiy/', '/tiy/', '/m/', '/tiy/', 'knew', 'pat', 'pot', 'knew', 'knew', 'pot', 'knew', 'pot', '/iy/', '/piy/', 'gnaw', 'knew', '/uw/', '/m/', '/m/', '/uw/', '/tiy/', '/piy/', '/uw/', '/iy/', '/iy/', '/tiy/', '/uw/', 'gnaw', '/diy/', '/piy/', '/piy/', 'pot', 'gnaw', '/tiy/', 'knew', '/tiy/', 'pat', 'pat', '/tiy/', '/diy/', '/piy/', 'gnaw', 'gnaw', '/uw/', '/piy/', 'pat', 'knew', 'pat', '/iy/', '/piy/', '/iy/', '/diy/', '/m/', '/diy/', '/piy/', '/m/', 'knew', '/n/', '/iy/', '/uw/', 'pat', 'pat', 'pat', 'gnaw', '/iy/', '/tiy/', '/uw/', 'pot', '/piy/', 'pat', '/piy/', 'knew', '/tiy/', 'pot', '/diy/', 'pat', '/m/', '/iy/', '/diy/', '/m/', '/iy/', '/diy/', '/piy/', '/m/', 'pot', 'pot', '/m/', 'pat', '/m/', '/iy/', '/uw/', 'gnaw', '/tiy/', '/n/', 'pot', 'knew', '/piy/', '/piy/', 'pat', '/uw/', 'gnaw', 'pot', 'gnaw', '/diy/', '/n/', '/tiy/', 'pat', '/m/', '/diy/', '/iy/', 'gnaw', '/diy/', 'pot', 'knew', 'gnaw', '/tiy/', '/tiy/', 'gnaw', '/diy/', '/piy/', 'pat', '/diy/', '/iy/', '/uw/', '/diy/', '/uw/', '/diy/', '/m/', '/m/', 'knew', '/tiy/', 'knew', '/piy/', 'pat', '/piy/', '/n/', '/n/', 'pat', 'pat', '/piy/', '/piy/', '/tiy/', 'gnaw', 'knew', '/piy/', 'knew', 'knew', '/iy/', '/piy/', '/tiy/', 'gnaw', '/piy/', 'knew', '/piy/', '/m/', '/tiy/', '/m/', '/n/', 'pot', '/piy/', 'pat', 'gnaw', 'knew', '/n/', '/uw/', 'pat', '/uw/', 'knew', 'knew', 'pot', '/tiy/', '/m/', '/piy/', '/diy/', '/m/', 'knew', '/uw/', '/diy/', '/diy/', 'pot', '/n/', 'pot', '/m/', 'pat', 'pot', 'pat', '/n/', '/m/', 'gnaw', '/uw/', '/piy/', '/diy/', 'knew', 'pot', 'gnaw', '/piy/', 'gnaw', 'pat', '/n/', '/n/', '/piy/', 'pot', '/uw/', 'pot', 'pot', 'pot', '/m/', 'gnaw', '/piy/', '/tiy/', '/diy/', '/uw/', '/iy/', '/piy/', 'knew', '/piy/', 'gnaw', '/m/', '/m/', '/m/', 'gnaw', 'gnaw', 'knew', '/diy/', 'pat', 'pat', '/iy/', 'pat', '/uw/', '/n/', 'knew', '/tiy/', '/iy/', '/piy/', '/iy/', '/uw/', 'pat', 'pat', 'knew', '/iy/', 'pat', '/m/', '/piy/', '/n/', 'pot', 'pot', 'gnaw', '/tiy/', '/uw/', '/piy/', 'pot', 'knew', 'pat', '/piy/', 'pot', '/m/', 'pot', 'knew', '/m/', '/tiy/', '/tiy/', 'pat', '/tiy/', '/iy/', '/uw/', 'pot', '/uw/', 'gnaw', '/iy/', 'gnaw', '/diy/', 'knew', '/m/', '/uw/', '/iy/', '/n/', '/piy/', 'gnaw', 'pot', '/tiy/', 'pat', '/n/', '/uw/', '/diy/', '/m/', '/diy/', '/n/', '/uw/', '/n/', 'pot', 'pat', 'pat', '/piy/', '/tiy/', 'knew', '/diy/', 'pot', 'gnaw', 'pot', '/tiy/', 'gnaw', '/m/', '/diy/', 'gnaw', '/tiy/', '/piy/', '/m/', '/iy/', '/piy/', 'pot', 'pat', '/diy/', '/piy/', '/iy/', '/n/', '/diy/', '/diy/', '/diy/', '/uw/', '/n/', 'knew', '/uw/', 'knew', '/n/', 'gnaw', '/m/', '/n/', '/uw/', '/piy/', '/tiy/', 'pot', 'pot', '/n/', 'pot', '/n/', '/m/', 'pat', '/uw/', '/uw/', '/diy/', '/diy/', '/tiy/', 'knew', 'knew', 'knew', '/diy/', '/m/', '/n/', '/tiy/', 'gnaw', '/uw/', '/n/', 'pot', '/uw/', '/iy/', 'gnaw', '/m/', '/n/', 'gnaw', '/uw/', '/uw/', '/tiy/', '/diy/', '/iy/', '/n/', '/tiy/', '/m/', '/piy/', 'gnaw', 'pot', '/iy/', '/diy/', 'knew', '/uw/', 'gnaw', '/n/', '/iy/', 'pot', '/uw/', '/piy/', '/tiy/', '/n/', '/uw/', 'gnaw', '/diy/', '/uw/', 'pat', 'pat', 'knew', '/piy/', '/n/', '/iy/', 'pat', 'gnaw', '/n/', '/piy/', '/uw/', '/n/', 'pot', '/n/', '/uw/', '/tiy/', 'knew', '/n/', '/diy/', '/tiy/', '/diy/', '/uw/', 'pot', '/piy/', '/m/', '/n/', 'gnaw', '/n/', '/tiy/', '/iy/', '/tiy/', '/piy/', '/n/', '/n/', '/n/', '/iy/', '/m/', 'pot', '/piy/', 'knew', '/iy/', '/tiy/', '/diy/', '/diy/', 'pot', '/n/', 'gnaw', '/m/', '/tiy/', 'pot', 'pat', '/n/', '/uw/', '/tiy/', '/iy/', '/n/', 'pat', 'gnaw', '/m/', '/n/', '/diy/', '/iy/', 'gnaw', 'pat', 'pat', '/piy/', 'knew', 'knew', 'pot', 'pat', '/tiy/', 'knew', '/uw/', '/piy/', '/piy/', '/n/', '/uw/', '/n/', '/diy/', 'gnaw', 'pot', '/piy/', '/m/', '/iy/', '/iy/', '/diy/', '/piy/', '/n/', 'gnaw', '/iy/', '/uw/', 'pat', '/n/', 'knew', 'knew', '/n/', '/iy/', '/m/', '/n/', '/uw/', '/piy/', 'pot', '/m/', '/m/', 'gnaw', 'gnaw', '/piy/', 'gnaw', '/tiy/', '/iy/', '/n/', '/piy/', '/diy/', 'pat', 'pot', '/n/', '/piy/', 'pat', '/n/', 'gnaw', '/piy/', '/m/', 'pot', 'pat', 'knew', '/m/', 'gnaw', 'pot', 'knew', '/uw/', '/piy/', '/uw/', '/m/', '/uw/', '/iy/', 'pat', '/uw/', '/iy/', 'pot', '/diy/', '/diy/', '/tiy/', 'pot', '/piy/', 'knew', '/piy/', 'knew', '/iy/', '/uw/', '/diy/', '/iy/', 'gnaw', 'pot', 'pot', '/uw/', '/piy/', 'pat', '/piy/', '/piy/', '/m/', '/uw/', '/uw/', 'pat', '/tiy/', '/m/', '/n/', 'pot', '/iy/', '/uw/', 'pat', 'pat', '/n/', '/iy/', '/tiy/', '/piy/', '/iy/', 'pat', '/piy/', 'pat', 'gnaw', '/uw/', 'pat', 'pat', '/iy/', 'gnaw', '/iy/', 'gnaw', '/uw/', 'gnaw', 'pat', '/diy/', '/piy/', 'pat', '/n/', '/iy/', 'knew', '/piy/', 'pot', 'knew', 'pot', '/n/', '/tiy/', '/m/', '/m/', 'gnaw', '/n/', 'pat', '/iy/', '/m/', 'pat', '/piy/', 'pot', '/n/', '/uw/', '/diy/', 'pot', 'gnaw', 'knew', '/diy/', '/diy/', '/diy/', '/tiy/', '/tiy/', 'pot', '/diy/', '/uw/', 'gnaw', 'pot', 'gnaw', '/n/', '/uw/', 'knew', '/m/', 'pot', '/m/', '/uw/', 'pot', '/uw/', 'pot', '/piy/', '/uw/', '/uw/', '/m/', '/iy/', '/piy/', '/diy/', 'pot', '/m/', '/diy/', '/n/', '/diy/', '/n/', 'pat', '/uw/', '/piy/', '/n/', '/tiy/', 'gnaw', '/m/', 'gnaw', '/uw/', 'knew', '/tiy/', '/n/', '/n/', '/n/', 'pot', '/piy/', '/m/', '/uw/', 'pat', 'pat', 'gnaw', 'knew', '/piy/', 'pat', '/diy/', '/n/', '/diy/', '/diy/', '/iy/', 'pat', 'pat', '/iy/', '/diy/', '/piy/', '/iy/', '/piy/', 'knew', '/uw/', 'knew', 'gnaw', 'pot', 'knew', 'gnaw', 'gnaw', '/iy/', '/iy/', 'gnaw', '/diy/', 'gnaw', 'pat', 'knew', '/n/', '/n/', 'pat', '/iy/', '/uw/', 'gnaw', '/n/', '/m/', '/m/', 'gnaw', '/n/', '/n/', 'pat', '/tiy/', 'pat', '/uw/', '/iy/', 'pat', '/piy/', 'knew', '/uw/', '/diy/', '/n/', '/uw/', 'knew', '/uw/', '/n/', '/diy/', '/piy/', '/n/', 'pat', '/piy/', 'knew', '/diy/', 'knew', '/diy/', 'pat', '/uw/', 'knew', '/m/', '/m/', '/tiy/', '/m/', '/n/', '/uw/', '/piy/', '/tiy/', 'gnaw', 'knew', '/piy/', '/n/', '/tiy/', '/m/', '/diy/', '/diy/', 'pot', '/uw/', 'knew', '/tiy/', 'gnaw', '/tiy/', '/m/', 'pot', '/iy/', '/m/', '/tiy/', 'pat', '/n/', 'pot', '/tiy/', 'pat', '/tiy/', '/m/', 'knew', 'pat', '/m/', 'gnaw', '/uw/', '/diy/', '/tiy/', '/tiy/', '/tiy/', 'pat', 'gnaw', '/n/', 'knew', '/diy/', 'gnaw', '/m/', '/tiy/', '/tiy/', '/tiy/', '/diy/', 'gnaw', 'pot', '/n/', '/n/', 'pot', 'knew', 'gnaw', '/diy/', '/piy/', 'gnaw', '/n/', 'pot', 'gnaw', '/n/', '/n/', '/n/', '/m/', '/tiy/', '/m/', '/uw/', '/piy/', '/iy/', '/n/', 'knew', 'pot', '/m/', '/iy/', '/tiy/', 'pot', '/iy/', '/m/', 'gnaw', '/m/', 'pot', 'pot', '/tiy/', '/iy/', 'knew', '/iy/', 'pot', '/piy/', 'pat', 'gnaw', '/tiy/', 'pat', 'pat', '/m/', '/m/', '/iy/', '/m/', 'pot', '/piy/', '/piy/', '/piy/', 'knew', '/uw/', 'pat', 'gnaw', '/piy/', '/m/', '/tiy/', '/m/', '/m/', '/uw/', '/diy/', '/iy/', '/m/', 'knew', '/tiy/', '/piy/', '/diy/', '/n/', 'knew', '/diy/', 'gnaw', 'pat', '/piy/', 'knew', '/iy/', '/diy/', 'gnaw', '/uw/', '/tiy/', '/tiy/', '/n/', '/n/', 'pot', '/uw/', '/diy/', '/iy/', 'pat', '/diy/', 'pat', '/iy/', 'pot', '/piy/', '/tiy/', '/tiy/', '/m/', '/tiy/', '/diy/', '/diy/', 'knew', 'knew', '/n/', '/piy/', 'pot', '/iy/', 'pat', '/n/', 'gnaw', '/uw/', 'gnaw', '/piy/', '/uw/', 'gnaw', 'pot', '/n/', '/m/', '/tiy/', '/tiy/', 'knew', '/uw/', '/n/', '/diy/', '/uw/', '/diy/', '/iy/', '/tiy/', 'pot', '/tiy/', 'pat', 'gnaw', '/iy/', '/diy/', '/piy/', '/uw/', 'knew', '/iy/', '/piy/', 'knew', 'gnaw', '/iy/', 'gnaw', '/piy/', 'gnaw', '/m/', '/iy/', 'pot', '/m/', '/uw/', '/uw/', '/diy/', '/n/', '/iy/', '/iy/', 'pat', '/iy/', 'knew', 'knew', '/diy/', '/n/', '/diy/', 'gnaw', '/tiy/', '/n/', '/n/', 'knew', '/piy/', 'pot', '/m/', '/tiy/', '/uw/', '/piy/', 'pat', '/n/', '/piy/', 'pot', 'knew', 'gnaw', '/piy/', 'pot', '/tiy/', 'knew', 'pat', 'pot', '/diy/', 'pot', 'pat', 'pot', '/uw/', 'pat', '/iy/', '/iy/', 'knew', '/iy/', '/uw/', '/tiy/', '/tiy/', 'gnaw', 'knew', 'gnaw', 'gnaw', '/uw/', '/m/', 'pat', 'pot', 'pot', '/m/', '/iy/', 'pot', '/m/', '/uw/', '/iy/', '/iy/', '/diy/', 'knew', '/diy/', '/tiy/', '/n/', '/piy/', '/iy/', '/piy/', '/m/', '/iy/', 'gnaw', '/uw/', 'pat', '/piy/', '/piy/', '/m/', '/diy/', 'gnaw', '/tiy/', '/tiy/', '/iy/', '/diy/', '/uw/', 'knew', '/n/', '/piy/', '/tiy/', 'gnaw', '/tiy/', '/piy/', 'pot', '/iy/', '/n/', '/m/', '/iy/', '/iy/', '/iy/', 'pat', '/n/', '/tiy/', 'pat', '/diy/', '/diy/', '/tiy/', '/tiy/', '/diy/', '/m/', '/piy/', '/n/', '/n/', '/diy/', '/n/', 'gnaw', 'gnaw', 'pot', '/m/', '/n/', '/diy/', '/m/', 'pat', 'pat', '/piy/', 'pat', 'pat', 'knew', 'pat', '/tiy/', 'gnaw', 'gnaw', 'pat', '/m/', '/diy/', '/piy/', '/m/', '/iy/', '/diy/', 'gnaw', '/diy/', 'gnaw', '/m/', 'pot', 'pot', '/tiy/', 'knew', '/piy/', 'pot', '/iy/', '/tiy/', 'pat', 'pot', '/uw/', 'pot', '/iy/', '/diy/', 'pot', '/diy/', '/uw/', '/diy/', '/tiy/', '/m/', '/m/', '/piy/', '/tiy/', '/iy/', '/m/', 'knew', '/n/', '/m/', '/m/', '/uw/', '/n/', 'pat', '/piy/', 'gnaw', 'gnaw', '/m/', '/piy/', 'knew', 'pat', '/piy/', 'pot', '/iy/', 'gnaw', 'pot', '/tiy/', 'knew', 'pat', 'pot', '/n/', '/uw/', '/uw/', '/uw/', 'knew', '/tiy/', 'gnaw', '/uw/', 'knew', '/uw/', 'pat', 'gnaw', '/uw/', '/piy/', 'pat', 'pot', '/iy/', '/diy/', 'pat', 'knew', 'pat', 'pot', '/piy/', 'pat', 'pat', 'knew', '/n/', '/diy/', 'pot', 'pat', 'pat', 'knew', '/diy/', '/uw/', 'gnaw', 'knew', 'knew', 'pot', 'pat', '/m/', 'pat', 'gnaw', '/diy/', '/diy/', '/uw/', '/tiy/', '/diy/', 'gnaw', '/m/', '/m/', 'pot', '/piy/', '/n/', 'gnaw', '/uw/', '/tiy/', 'knew', 'knew', '/iy/', '/m/', 'gnaw', '/n/', '/piy/', '/iy/', '/diy/', '/iy/', 'pot', 'pat', '/tiy/', '/n/', '/piy/', '/iy/', '/diy/', 'knew', 'pat', '/n/', 'gnaw', 'pat', '/tiy/', '/diy/', 'pat', '/piy/', '/tiy/', '/m/', 'gnaw', '/tiy/', '/iy/', 'knew', 'pot', 'pot', 'knew', 'pat', '/iy/', 'pot', 'knew', '/iy/', '/diy/', '/diy/', 'pot', '/piy/', 'pat', '/n/', 'pot', '/uw/', '/piy/', '/diy/', '/diy/', '/diy/', '/piy/', '/piy/', '/diy/', 'gnaw', '/tiy/', 'pat', '/tiy/', 'pot', '/piy/', '/piy/', 'pot', '/piy/', '/diy/', '/uw/', '/n/', '/iy/', '/tiy/', '/piy/', '/piy/', '/m/', '/n/', '/n/', '/diy/', '/iy/', 'gnaw', 'gnaw', '/diy/', 'pat', '/iy/', '/tiy/', '/iy/', 'pot', '/piy/', '/n/', '/n/', '/diy/', '/piy/', '/n/', '/m/', '/piy/', 'knew', 'pot', '/diy/', '/tiy/', 'pat', '/diy/', '/iy/', 'pot', '/n/', '/uw/', '/n/', 'pat', '/diy/', 'gnaw', '/m/', '/piy/', '/iy/', '/n/', '/diy/', 'knew', 'pat', '/piy/', '/iy/', '/n/', 'pat', 'pat', '/tiy/', 'gnaw', '/uw/', 'knew', '/m/', 'knew', '/piy/', '/tiy/', 'knew', '/uw/', 'pat', '/iy/', '/piy/', '/iy/', '/iy/', '/iy/', '/m/', '/n/', 'pat', 'pot', 'pot', '/diy/', '/diy/', '/tiy/', 'pot', '/tiy/', 'pot', 'knew', 'gnaw', 'pot', '/tiy/', '/m/', 'knew', 'pot', 'knew', '/piy/', '/uw/', '/iy/', '/tiy/', '/tiy/', 'pot', '/iy/', '/uw/', 'pat', '/n/', 'pot', 'pat', 'pot', '/iy/', '/uw/', 'knew', '/uw/', 'knew', '/iy/', 'gnaw']\n"
          ],
          "name": "stdout"
        }
      ]
    },
    {
      "metadata": {
        "id": "qDDWG54CvDLm",
        "colab_type": "code",
        "outputId": "a7afd70b-b57b-4d9c-fb63-ec7e76d83010",
        "colab": {
          "base_uri": "https://localhost:8080/",
          "height": 53
        }
      },
      "cell_type": "code",
      "source": [
        "print(np.mean(X))\n",
        "print(np.var(X))"
      ],
      "execution_count": 0,
      "outputs": [
        {
          "output_type": "stream",
          "text": [
            "-2.404567194423297e-19\n",
            "0.9995117187500011\n"
          ],
          "name": "stdout"
        }
      ]
    },
    {
      "metadata": {
        "id": "1f-jV31twu99",
        "colab_type": "code",
        "colab": {}
      },
      "cell_type": "code",
      "source": [
        "y = labels[:]"
      ],
      "execution_count": 0,
      "outputs": []
    },
    {
      "metadata": {
        "id": "4kLSThuNwzkj",
        "colab_type": "code",
        "outputId": "5a82441c-4775-4686-8426-df56f95fcf56",
        "colab": {
          "base_uri": "https://localhost:8080/",
          "height": 55
        }
      },
      "cell_type": "code",
      "source": [
        "print(labels)"
      ],
      "execution_count": 0,
      "outputs": [
        {
          "output_type": "stream",
          "text": [
            "['knew', '/iy/', '/diy/', '/n/', 'gnaw', '/n/', '/n/', '/tiy/', 'pot', 'gnaw', '/n/', '/uw/', '/piy/', 'pot', '/iy/', 'gnaw', '/iy/', '/diy/', 'gnaw', '/uw/', 'gnaw', '/tiy/', '/tiy/', '/diy/', '/m/', 'gnaw', '/uw/', '/iy/', '/m/', 'pat', '/diy/', '/uw/', '/m/', 'pat', '/iy/', '/uw/', '/m/', '/tiy/', '/piy/', '/uw/', '/tiy/', 'knew', 'gnaw', '/n/', '/uw/', '/tiy/', '/m/', 'pat', '/m/', 'gnaw', '/tiy/', '/m/', '/iy/', 'pat', 'pat', '/uw/', 'pot', '/iy/', 'pot', '/uw/', '/iy/', '/iy/', '/diy/', 'knew', '/iy/', '/iy/', '/tiy/', 'pot', '/tiy/', '/n/', '/m/', 'pat', '/piy/', '/iy/', '/diy/', '/m/', '/n/', '/iy/', '/n/', '/diy/', 'gnaw', '/uw/', 'pat', '/diy/', '/m/', 'pat', 'knew', '/iy/', '/iy/', 'gnaw', '/m/', '/tiy/', '/m/', 'knew', 'pat', '/diy/', 'pot', '/diy/', '/tiy/', 'pat', '/uw/', 'pot', '/uw/', '/diy/', 'pot', 'pot', '/n/', '/n/', '/m/', 'knew', '/n/', 'knew', '/tiy/', 'pat', '/m/', 'knew', 'knew', '/n/', 'knew', 'gnaw', '/m/', '/tiy/', '/diy/', 'pot', '/iy/', '/tiy/', '/piy/', '/m/', '/iy/', 'knew', 'gnaw', '/uw/', 'knew', 'pot', '/diy/', 'gnaw', 'pat', 'gnaw', '/piy/', 'knew', '/m/', 'knew', 'knew', '/uw/', '/uw/', '/uw/', 'pat', '/tiy/', '/piy/', '/n/', '/uw/', '/piy/', '/uw/', '/diy/', '/m/', 'pot', '/iy/', '/diy/', 'gnaw', '/m/', 'pat', '/uw/', 'pot', '/uw/', '/piy/', '/iy/', '/m/', 'gnaw', 'knew', '/uw/', '/n/', '/tiy/', '/m/', '/tiy/', '/m/', '/tiy/', '/piy/', '/iy/', 'knew', 'pot', 'gnaw', '/uw/', '/diy/', '/n/', '/n/', '/iy/', '/tiy/', 'knew', 'pot', '/piy/', '/uw/', 'gnaw', 'knew', '/iy/', '/tiy/', 'knew', 'pot', '/iy/', '/diy/', '/n/', '/diy/', '/n/', 'knew', '/m/', '/m/', '/tiy/', 'knew', '/m/', '/uw/', 'knew', 'knew', '/m/', 'pot', '/m/', 'gnaw', '/tiy/', 'knew', '/uw/', '/n/', 'pat', '/diy/', '/m/', 'gnaw', 'knew', '/uw/', '/uw/', '/m/', 'gnaw', '/iy/', '/iy/', '/m/', 'gnaw', '/tiy/', 'knew', '/piy/', '/diy/', '/tiy/', 'knew', '/n/', '/tiy/', '/iy/', '/n/', '/tiy/', '/uw/', 'knew', 'knew', 'gnaw', '/uw/', '/m/', '/diy/', '/m/', 'knew', '/m/', '/iy/', 'pot', '/iy/', '/uw/', '/diy/', 'gnaw', 'gnaw', 'gnaw', '/tiy/', '/tiy/', '/tiy/', '/m/', '/tiy/', 'knew', 'pat', 'pot', 'knew', 'knew', 'pot', 'knew', 'pot', '/iy/', '/piy/', 'gnaw', 'knew', '/uw/', '/m/', '/m/', '/uw/', '/tiy/', '/piy/', '/uw/', '/iy/', '/iy/', '/tiy/', '/uw/', 'gnaw', '/diy/', '/piy/', '/piy/', 'pot', 'gnaw', '/tiy/', 'knew', '/tiy/', 'pat', 'pat', '/tiy/', '/diy/', '/piy/', 'gnaw', 'gnaw', '/uw/', '/piy/', 'pat', 'knew', 'pat', '/iy/', '/piy/', '/iy/', '/diy/', '/m/', '/diy/', '/piy/', '/m/', 'knew', '/n/', '/iy/', '/uw/', 'pat', 'pat', 'pat', 'gnaw', '/iy/', '/tiy/', '/uw/', 'pot', '/piy/', 'pat', '/piy/', 'knew', '/tiy/', 'pot', '/diy/', 'pat', '/m/', '/iy/', '/diy/', '/m/', '/iy/', '/diy/', '/piy/', '/m/', 'pot', 'pot', '/m/', 'pat', '/m/', '/iy/', '/uw/', 'gnaw', '/tiy/', '/n/', 'pot', 'knew', '/piy/', '/piy/', 'pat', '/uw/', 'gnaw', 'pot', 'gnaw', '/diy/', '/n/', '/tiy/', 'pat', '/m/', '/diy/', '/iy/', 'gnaw', '/diy/', 'pot', 'knew', 'gnaw', '/tiy/', '/tiy/', 'gnaw', '/diy/', '/piy/', 'pat', '/diy/', '/iy/', '/uw/', '/diy/', '/uw/', '/diy/', '/m/', '/m/', 'knew', '/tiy/', 'knew', '/piy/', 'pat', '/piy/', '/n/', '/n/', 'pat', 'pat', '/piy/', '/piy/', '/tiy/', 'gnaw', 'knew', '/piy/', 'knew', 'knew', '/iy/', '/piy/', '/tiy/', 'gnaw', '/piy/', 'knew', '/piy/', '/m/', '/tiy/', '/m/', '/n/', 'pot', '/piy/', 'pat', 'gnaw', 'knew', '/n/', '/uw/', 'pat', '/uw/', 'knew', 'knew', 'pot', '/tiy/', '/m/', '/piy/', '/diy/', '/m/', 'knew', '/uw/', '/diy/', '/diy/', 'pot', '/n/', 'pot', '/m/', 'pat', 'pot', 'pat', '/n/', '/m/', 'gnaw', '/uw/', '/piy/', '/diy/', 'knew', 'pot', 'gnaw', '/piy/', 'gnaw', 'pat', '/n/', '/n/', '/piy/', 'pot', '/uw/', 'pot', 'pot', 'pot', '/m/', 'gnaw', '/piy/', '/tiy/', '/diy/', '/uw/', '/iy/', '/piy/', 'knew', '/piy/', 'gnaw', '/m/', '/m/', '/m/', 'gnaw', 'gnaw', 'knew', '/diy/', 'pat', 'pat', '/iy/', 'pat', '/uw/', '/n/', 'knew', '/tiy/', '/iy/', '/piy/', '/iy/', '/uw/', 'pat', 'pat', 'knew', '/iy/', 'pat', '/m/', '/piy/', '/n/', 'pot', 'pot', 'gnaw', '/tiy/', '/uw/', '/piy/', 'pot', 'knew', 'pat', '/piy/', 'pot', '/m/', 'pot', 'knew', '/m/', '/tiy/', '/tiy/', 'pat', '/tiy/', '/iy/', '/uw/', 'pot', '/uw/', 'gnaw', '/iy/', 'gnaw', '/diy/', 'knew', '/m/', '/uw/', '/iy/', '/n/', '/piy/', 'gnaw', 'pot', '/tiy/', 'pat', '/n/', '/uw/', '/diy/', '/m/', '/diy/', '/n/', '/uw/', '/n/', 'pot', 'pat', 'pat', '/piy/', '/tiy/', 'knew', '/diy/', 'pot', 'gnaw', 'pot', '/tiy/', 'gnaw', '/m/', '/diy/', 'gnaw', '/tiy/', '/piy/', '/m/', '/iy/', '/piy/', 'pot', 'pat', '/diy/', '/piy/', '/iy/', '/n/', '/diy/', '/diy/', '/diy/', '/uw/', '/n/', 'knew', '/uw/', 'knew', '/n/', 'gnaw', '/m/', '/n/', '/uw/', '/piy/', '/tiy/', 'pot', 'pot', '/n/', 'pot', '/n/', '/m/', 'pat', '/uw/', '/uw/', '/diy/', '/diy/', '/tiy/', 'knew', 'knew', 'knew', '/diy/', '/m/', '/n/', '/tiy/', 'gnaw', '/uw/', '/n/', 'pot', '/uw/', '/iy/', 'gnaw', '/m/', '/n/', 'gnaw', '/uw/', '/uw/', '/tiy/', '/diy/', '/iy/', '/n/', '/tiy/', '/m/', '/piy/', 'gnaw', 'pot', '/iy/', '/diy/', 'knew', '/uw/', 'gnaw', '/n/', '/iy/', 'pot', '/uw/', '/piy/', '/tiy/', '/n/', '/uw/', 'gnaw', '/diy/', '/uw/', 'pat', 'pat', 'knew', '/piy/', '/n/', '/iy/', 'pat', 'gnaw', '/n/', '/piy/', '/uw/', '/n/', 'pot', '/n/', '/uw/', '/tiy/', 'knew', '/n/', '/diy/', '/tiy/', '/diy/', '/uw/', 'pot', '/piy/', '/m/', '/n/', 'gnaw', '/n/', '/tiy/', '/iy/', '/tiy/', '/piy/', '/n/', '/n/', '/n/', '/iy/', '/m/', 'pot', '/piy/', 'knew', '/iy/', '/tiy/', '/diy/', '/diy/', 'pot', '/n/', 'gnaw', '/m/', '/tiy/', 'pot', 'pat', '/n/', '/uw/', '/tiy/', '/iy/', '/n/', 'pat', 'gnaw', '/m/', '/n/', '/diy/', '/iy/', 'gnaw', 'pat', 'pat', '/piy/', 'knew', 'knew', 'pot', 'pat', '/tiy/', 'knew', '/uw/', '/piy/', '/piy/', '/n/', '/uw/', '/n/', '/diy/', 'gnaw', 'pot', '/piy/', '/m/', '/iy/', '/iy/', '/diy/', '/piy/', '/n/', 'gnaw', '/iy/', '/uw/', 'pat', '/n/', 'knew', 'knew', '/n/', '/iy/', '/m/', '/n/', '/uw/', '/piy/', 'pot', '/m/', '/m/', 'gnaw', 'gnaw', '/piy/', 'gnaw', '/tiy/', '/iy/', '/n/', '/piy/', '/diy/', 'pat', 'pot', '/n/', '/piy/', 'pat', '/n/', 'gnaw', '/piy/', '/m/', 'pot', 'pat', 'knew', '/m/', 'gnaw', 'pot', 'knew', '/uw/', '/piy/', '/uw/', '/m/', '/uw/', '/iy/', 'pat', '/uw/', '/iy/', 'pot', '/diy/', '/diy/', '/tiy/', 'pot', '/piy/', 'knew', '/piy/', 'knew', '/iy/', '/uw/', '/diy/', '/iy/', 'gnaw', 'pot', 'pot', '/uw/', '/piy/', 'pat', '/piy/', '/piy/', '/m/', '/uw/', '/uw/', 'pat', '/tiy/', '/m/', '/n/', 'pot', '/iy/', '/uw/', 'pat', 'pat', '/n/', '/iy/', '/tiy/', '/piy/', '/iy/', 'pat', '/piy/', 'pat', 'gnaw', '/uw/', 'pat', 'pat', '/iy/', 'gnaw', '/iy/', 'gnaw', '/uw/', 'gnaw', 'pat', '/diy/', '/piy/', 'pat', '/n/', '/iy/', 'knew', '/piy/', 'pot', 'knew', 'pot', '/n/', '/tiy/', '/m/', '/m/', 'gnaw', '/n/', 'pat', '/iy/', '/m/', 'pat', '/piy/', 'pot', '/n/', '/uw/', '/diy/', 'pot', 'gnaw', 'knew', '/diy/', '/diy/', '/diy/', '/tiy/', '/tiy/', 'pot', '/diy/', '/uw/', 'gnaw', 'pot', 'gnaw', '/n/', '/uw/', 'knew', '/m/', 'pot', '/m/', '/uw/', 'pot', '/uw/', 'pot', '/piy/', '/uw/', '/uw/', '/m/', '/iy/', '/piy/', '/diy/', 'pot', '/m/', '/diy/', '/n/', '/diy/', '/n/', 'pat', '/uw/', '/piy/', '/n/', '/tiy/', 'gnaw', '/m/', 'gnaw', '/uw/', 'knew', '/tiy/', '/n/', '/n/', '/n/', 'pot', '/piy/', '/m/', '/uw/', 'pat', 'pat', 'gnaw', 'knew', '/piy/', 'pat', '/diy/', '/n/', '/diy/', '/diy/', '/iy/', 'pat', 'pat', '/iy/', '/diy/', '/piy/', '/iy/', '/piy/', 'knew', '/uw/', 'knew', 'gnaw', 'pot', 'knew', 'gnaw', 'gnaw', '/iy/', '/iy/', 'gnaw', '/diy/', 'gnaw', 'pat', 'knew', '/n/', '/n/', 'pat', '/iy/', '/uw/', 'gnaw', '/n/', '/m/', '/m/', 'gnaw', '/n/', '/n/', 'pat', '/tiy/', 'pat', '/uw/', '/iy/', 'pat', '/piy/', 'knew', '/uw/', '/diy/', '/n/', '/uw/', 'knew', '/uw/', '/n/', '/diy/', '/piy/', '/n/', 'pat', '/piy/', 'knew', '/diy/', 'knew', '/diy/', 'pat', '/uw/', 'knew', '/m/', '/m/', '/tiy/', '/m/', '/n/', '/uw/', '/piy/', '/tiy/', 'gnaw', 'knew', '/piy/', '/n/', '/tiy/', '/m/', '/diy/', '/diy/', 'pot', '/uw/', 'knew', '/tiy/', 'gnaw', '/tiy/', '/m/', 'pot', '/iy/', '/m/', '/tiy/', 'pat', '/n/', 'pot', '/tiy/', 'pat', '/tiy/', '/m/', 'knew', 'pat', '/m/', 'gnaw', '/uw/', '/diy/', '/tiy/', '/tiy/', '/tiy/', 'pat', 'gnaw', '/n/', 'knew', '/diy/', 'gnaw', '/m/', '/tiy/', '/tiy/', '/tiy/', '/diy/', 'gnaw', 'pot', '/n/', '/n/', 'pot', 'knew', 'gnaw', '/diy/', '/piy/', 'gnaw', '/n/', 'pot', 'gnaw', '/n/', '/n/', '/n/', '/m/', '/tiy/', '/m/', '/uw/', '/piy/', '/iy/', '/n/', 'knew', 'pot', '/m/', '/iy/', '/tiy/', 'pot', '/iy/', '/m/', 'gnaw', '/m/', 'pot', 'pot', '/tiy/', '/iy/', 'knew', '/iy/', 'pot', '/piy/', 'pat', 'gnaw', '/tiy/', 'pat', 'pat', '/m/', '/m/', '/iy/', '/m/', 'pot', '/piy/', '/piy/', '/piy/', 'knew', '/uw/', 'pat', 'gnaw', '/piy/', '/m/', '/tiy/', '/m/', '/m/', '/uw/', '/diy/', '/iy/', '/m/', 'knew', '/tiy/', '/piy/', '/diy/', '/n/', 'knew', '/diy/', 'gnaw', 'pat', '/piy/', 'knew', '/iy/', '/diy/', 'gnaw', '/uw/', '/tiy/', '/tiy/', '/n/', '/n/', 'pot', '/uw/', '/diy/', '/iy/', 'pat', '/diy/', 'pat', '/iy/', 'pot', '/piy/', '/tiy/', '/tiy/', '/m/', '/tiy/', '/diy/', '/diy/', 'knew', 'knew', '/n/', '/piy/', 'pot', '/iy/', 'pat', '/n/', 'gnaw', '/uw/', 'gnaw', '/piy/', '/uw/', 'gnaw', 'pot', '/n/', '/m/', '/tiy/', '/tiy/', 'knew', '/uw/', '/n/', '/diy/', '/uw/', '/diy/', '/iy/', '/tiy/', 'pot', '/tiy/', 'pat', 'gnaw', '/iy/', '/diy/', '/piy/', '/uw/', 'knew', '/iy/', '/piy/', 'knew', 'gnaw', '/iy/', 'gnaw', '/piy/', 'gnaw', '/m/', '/iy/', 'pot', '/m/', '/uw/', '/uw/', '/diy/', '/n/', '/iy/', '/iy/', 'pat', '/iy/', 'knew', 'knew', '/diy/', '/n/', '/diy/', 'gnaw', '/tiy/', '/n/', '/n/', 'knew', '/piy/', 'pot', '/m/', '/tiy/', '/uw/', '/piy/', 'pat', '/n/', '/piy/', 'pot', 'knew', 'gnaw', '/piy/', 'pot', '/tiy/', 'knew', 'pat', 'pot', '/diy/', 'pot', 'pat', 'pot', '/uw/', 'pat', '/iy/', '/iy/', 'knew', '/iy/', '/uw/', '/tiy/', '/tiy/', 'gnaw', 'knew', 'gnaw', 'gnaw', '/uw/', '/m/', 'pat', 'pot', 'pot', '/m/', '/iy/', 'pot', '/m/', '/uw/', '/iy/', '/iy/', '/diy/', 'knew', '/diy/', '/tiy/', '/n/', '/piy/', '/iy/', '/piy/', '/m/', '/iy/', 'gnaw', '/uw/', 'pat', '/piy/', '/piy/', '/m/', '/diy/', 'gnaw', '/tiy/', '/tiy/', '/iy/', '/diy/', '/uw/', 'knew', '/n/', '/piy/', '/tiy/', 'gnaw', '/tiy/', '/piy/', 'pot', '/iy/', '/n/', '/m/', '/iy/', '/iy/', '/iy/', 'pat', '/n/', '/tiy/', 'pat', '/diy/', '/diy/', '/tiy/', '/tiy/', '/diy/', '/m/', '/piy/', '/n/', '/n/', '/diy/', '/n/', 'gnaw', 'gnaw', 'pot', '/m/', '/n/', '/diy/', '/m/', 'pat', 'pat', '/piy/', 'pat', 'pat', 'knew', 'pat', '/tiy/', 'gnaw', 'gnaw', 'pat', '/m/', '/diy/', '/piy/', '/m/', '/iy/', '/diy/', 'gnaw', '/diy/', 'gnaw', '/m/', 'pot', 'pot', '/tiy/', 'knew', '/piy/', 'pot', '/iy/', '/tiy/', 'pat', 'pot', '/uw/', 'pot', '/iy/', '/diy/', 'pot', '/diy/', '/uw/', '/diy/', '/tiy/', '/m/', '/m/', '/piy/', '/tiy/', '/iy/', '/m/', 'knew', '/n/', '/m/', '/m/', '/uw/', '/n/', 'pat', '/piy/', 'gnaw', 'gnaw', '/m/', '/piy/', 'knew', 'pat', '/piy/', 'pot', '/iy/', 'gnaw', 'pot', '/tiy/', 'knew', 'pat', 'pot', '/n/', '/uw/', '/uw/', '/uw/', 'knew', '/tiy/', 'gnaw', '/uw/', 'knew', '/uw/', 'pat', 'gnaw', '/uw/', '/piy/', 'pat', 'pot', '/iy/', '/diy/', 'pat', 'knew', 'pat', 'pot', '/piy/', 'pat', 'pat', 'knew', '/n/', '/diy/', 'pot', 'pat', 'pat', 'knew', '/diy/', '/uw/', 'gnaw', 'knew', 'knew', 'pot', 'pat', '/m/', 'pat', 'gnaw', '/diy/', '/diy/', '/uw/', '/tiy/', '/diy/', 'gnaw', '/m/', '/m/', 'pot', '/piy/', '/n/', 'gnaw', '/uw/', '/tiy/', 'knew', 'knew', '/iy/', '/m/', 'gnaw', '/n/', '/piy/', '/iy/', '/diy/', '/iy/', 'pot', 'pat', '/tiy/', '/n/', '/piy/', '/iy/', '/diy/', 'knew', 'pat', '/n/', 'gnaw', 'pat', '/tiy/', '/diy/', 'pat', '/piy/', '/tiy/', '/m/', 'gnaw', '/tiy/', '/iy/', 'knew', 'pot', 'pot', 'knew', 'pat', '/iy/', 'pot', 'knew', '/iy/', '/diy/', '/diy/', 'pot', '/piy/', 'pat', '/n/', 'pot', '/uw/', '/piy/', '/diy/', '/diy/', '/diy/', '/piy/', '/piy/', '/diy/', 'gnaw', '/tiy/', 'pat', '/tiy/', 'pot', '/piy/', '/piy/', 'pot', '/piy/', '/diy/', '/uw/', '/n/', '/iy/', '/tiy/', '/piy/', '/piy/', '/m/', '/n/', '/n/', '/diy/', '/iy/', 'gnaw', 'gnaw', '/diy/', 'pat', '/iy/', '/tiy/', '/iy/', 'pot', '/piy/', '/n/', '/n/', '/diy/', '/piy/', '/n/', '/m/', '/piy/', 'knew', 'pot', '/diy/', '/tiy/', 'pat', '/diy/', '/iy/', 'pot', '/n/', '/uw/', '/n/', 'pat', '/diy/', 'gnaw', '/m/', '/piy/', '/iy/', '/n/', '/diy/', 'knew', 'pat', '/piy/', '/iy/', '/n/', 'pat', 'pat', '/tiy/', 'gnaw', '/uw/', 'knew', '/m/', 'knew', '/piy/', '/tiy/', 'knew', '/uw/', 'pat', '/iy/', '/piy/', '/iy/', '/iy/', '/iy/', '/m/', '/n/', 'pat', 'pot', 'pot', '/diy/', '/diy/', '/tiy/', 'pot', '/tiy/', 'pot', 'knew', 'gnaw', 'pot', '/tiy/', '/m/', 'knew', 'pot', 'knew', '/piy/', '/uw/', '/iy/', '/tiy/', '/tiy/', 'pot', '/iy/', '/uw/', 'pat', '/n/', 'pot', 'pat', 'pot', '/iy/', '/uw/', 'knew', '/uw/', 'knew', '/iy/', 'gnaw']\n"
          ],
          "name": "stdout"
        }
      ]
    },
    {
      "metadata": {
        "id": "4WjGmVyC6acY",
        "colab_type": "code",
        "outputId": "8aa88363-3ee3-4a39-a43f-8075bb399b87",
        "colab": {
          "base_uri": "https://localhost:8080/",
          "height": 35
        }
      },
      "cell_type": "code",
      "source": [
        "X.shape"
      ],
      "execution_count": 0,
      "outputs": [
        {
          "output_type": "execute_result",
          "data": {
            "text/plain": [
              "(1616, 2048)"
            ]
          },
          "metadata": {
            "tags": []
          },
          "execution_count": 63
        }
      ]
    },
    {
      "metadata": {
        "id": "JAf9lDVqBkWa",
        "colab_type": "code",
        "outputId": "3d452724-f8ec-48bd-b6ea-f7abab89d90b",
        "colab": {
          "base_uri": "https://localhost:8080/",
          "height": 35
        }
      },
      "cell_type": "code",
      "source": [
        "y_set = set(y)\n",
        "print(y_set)\n",
        "y_set = list(y_set)\n",
        "\n",
        "X1 = X\n",
        "y1 = y[:]\n",
        "\n",
        "cur_class = 0\n",
        "for i in range(len(y)):\n",
        "  if y1[i] == y_set[cur_class]:\n",
        "    y1[i] = 1\n",
        "  else:\n",
        "    y1[i] = 0"
      ],
      "execution_count": 0,
      "outputs": [
        {
          "output_type": "stream",
          "text": [
            "{'/diy/', '/tiy/', '/m/', '/uw/', 'pat', 'knew', 'gnaw', '/n/', '/iy/', 'pot', '/piy/'}\n"
          ],
          "name": "stdout"
        }
      ]
    },
    {
      "metadata": {
        "id": "Ct3007clCgOm",
        "colab_type": "code",
        "outputId": "f89f1dfc-d921-4613-a74b-80694e5e166a",
        "colab": {
          "base_uri": "https://localhost:8080/",
          "height": 55
        }
      },
      "cell_type": "code",
      "source": [
        "print(y1)"
      ],
      "execution_count": 0,
      "outputs": [
        {
          "output_type": "stream",
          "text": [
            "[0, 0, 1, 0, 0, 0, 0, 0, 0, 0, 0, 0, 0, 0, 0, 0, 0, 1, 0, 0, 0, 0, 0, 1, 0, 0, 0, 0, 0, 0, 1, 0, 0, 0, 0, 0, 0, 0, 0, 0, 0, 0, 0, 0, 0, 0, 0, 0, 0, 0, 0, 0, 0, 0, 0, 0, 0, 0, 0, 0, 0, 0, 1, 0, 0, 0, 0, 0, 0, 0, 0, 0, 0, 0, 1, 0, 0, 0, 0, 1, 0, 0, 0, 1, 0, 0, 0, 0, 0, 0, 0, 0, 0, 0, 0, 1, 0, 1, 0, 0, 0, 0, 0, 1, 0, 0, 0, 0, 0, 0, 0, 0, 0, 0, 0, 0, 0, 0, 0, 0, 0, 0, 1, 0, 0, 0, 0, 0, 0, 0, 0, 0, 0, 0, 1, 0, 0, 0, 0, 0, 0, 0, 0, 0, 0, 0, 0, 0, 0, 0, 0, 0, 0, 1, 0, 0, 0, 1, 0, 0, 0, 0, 0, 0, 0, 0, 0, 0, 0, 0, 0, 0, 0, 0, 0, 0, 0, 0, 0, 0, 0, 0, 1, 0, 0, 0, 0, 0, 0, 0, 0, 0, 0, 0, 0, 0, 0, 0, 1, 0, 1, 0, 0, 0, 0, 0, 0, 0, 0, 0, 0, 0, 0, 0, 0, 0, 0, 0, 0, 0, 1, 0, 0, 0, 0, 0, 0, 0, 0, 0, 0, 0, 0, 0, 0, 1, 0, 0, 0, 0, 0, 0, 0, 0, 0, 0, 0, 0, 0, 1, 0, 0, 0, 0, 0, 0, 0, 1, 0, 0, 0, 0, 0, 0, 0, 0, 0, 0, 0, 0, 0, 0, 0, 0, 0, 0, 0, 0, 0, 0, 0, 0, 0, 0, 0, 0, 0, 0, 0, 0, 1, 0, 0, 0, 0, 0, 0, 0, 0, 0, 0, 1, 0, 0, 0, 0, 0, 0, 0, 0, 0, 0, 0, 1, 0, 1, 0, 0, 0, 0, 0, 0, 0, 0, 0, 0, 0, 0, 0, 0, 0, 0, 0, 0, 0, 0, 1, 0, 0, 0, 1, 0, 0, 1, 0, 0, 0, 0, 0, 0, 0, 0, 0, 0, 0, 0, 0, 0, 0, 0, 0, 0, 0, 0, 0, 1, 0, 0, 0, 0, 1, 0, 0, 1, 0, 0, 0, 0, 0, 0, 1, 0, 0, 1, 0, 0, 1, 0, 1, 0, 0, 0, 0, 0, 0, 0, 0, 0, 0, 0, 0, 0, 0, 0, 0, 0, 0, 0, 0, 0, 0, 0, 0, 0, 0, 0, 0, 0, 0, 0, 0, 0, 0, 0, 0, 0, 0, 0, 0, 0, 0, 0, 0, 0, 0, 1, 0, 0, 0, 1, 1, 0, 0, 0, 0, 0, 0, 0, 0, 0, 0, 0, 0, 1, 0, 0, 0, 0, 0, 0, 0, 0, 0, 0, 0, 0, 0, 0, 0, 0, 0, 0, 1, 0, 0, 0, 0, 0, 0, 0, 0, 0, 0, 0, 0, 1, 0, 0, 0, 0, 0, 0, 0, 0, 0, 0, 0, 0, 0, 0, 0, 0, 0, 0, 0, 0, 0, 0, 0, 0, 0, 0, 0, 0, 0, 0, 0, 0, 0, 0, 0, 0, 0, 0, 0, 0, 0, 0, 0, 0, 0, 0, 1, 0, 0, 0, 0, 0, 0, 0, 0, 0, 0, 0, 0, 1, 0, 1, 0, 0, 0, 0, 0, 0, 0, 0, 0, 1, 0, 0, 0, 0, 0, 0, 1, 0, 0, 0, 0, 0, 0, 0, 0, 1, 0, 0, 0, 1, 1, 1, 0, 0, 0, 0, 0, 0, 0, 0, 0, 0, 0, 0, 0, 0, 0, 0, 0, 0, 0, 0, 0, 1, 1, 0, 0, 0, 0, 1, 0, 0, 0, 0, 0, 0, 0, 0, 0, 0, 0, 0, 0, 0, 0, 0, 1, 0, 0, 0, 0, 0, 0, 0, 0, 1, 0, 0, 0, 0, 0, 0, 0, 0, 0, 0, 0, 0, 1, 0, 0, 0, 0, 0, 0, 0, 0, 0, 0, 0, 0, 0, 0, 0, 0, 0, 0, 0, 1, 0, 1, 0, 0, 0, 0, 0, 0, 0, 0, 0, 0, 0, 0, 0, 0, 0, 0, 0, 0, 0, 0, 0, 1, 1, 0, 0, 0, 0, 0, 0, 0, 0, 0, 0, 0, 0, 0, 0, 0, 0, 1, 0, 0, 0, 0, 0, 0, 0, 0, 0, 0, 0, 0, 0, 0, 0, 0, 0, 1, 0, 0, 0, 0, 0, 0, 1, 0, 0, 0, 0, 0, 0, 0, 0, 0, 0, 0, 0, 0, 0, 0, 0, 0, 0, 0, 0, 0, 0, 0, 0, 0, 0, 1, 0, 0, 0, 0, 0, 0, 0, 0, 0, 0, 0, 0, 0, 0, 0, 0, 0, 0, 0, 0, 0, 0, 0, 0, 0, 0, 1, 1, 0, 0, 0, 0, 0, 0, 0, 0, 1, 0, 0, 0, 0, 0, 0, 0, 0, 0, 0, 0, 0, 0, 0, 0, 0, 0, 0, 0, 0, 0, 0, 0, 0, 0, 0, 0, 0, 0, 0, 0, 0, 0, 0, 0, 0, 0, 0, 0, 0, 1, 0, 0, 0, 0, 0, 0, 0, 0, 0, 0, 0, 0, 0, 0, 0, 0, 0, 0, 0, 0, 0, 0, 0, 1, 0, 0, 0, 1, 1, 1, 0, 0, 0, 1, 0, 0, 0, 0, 0, 0, 0, 0, 0, 0, 0, 0, 0, 0, 0, 0, 0, 0, 0, 0, 1, 0, 0, 1, 0, 1, 0, 0, 0, 0, 0, 0, 0, 0, 0, 0, 0, 0, 0, 0, 0, 0, 0, 0, 0, 0, 0, 0, 0, 0, 0, 1, 0, 1, 1, 0, 0, 0, 0, 1, 0, 0, 0, 0, 0, 0, 0, 0, 0, 0, 0, 0, 0, 0, 1, 0, 0, 0, 0, 0, 0, 0, 0, 0, 0, 0, 0, 0, 0, 0, 0, 0, 0, 0, 0, 0, 0, 0, 0, 1, 0, 0, 0, 0, 0, 1, 0, 0, 0, 0, 0, 1, 0, 1, 0, 0, 0, 0, 0, 0, 0, 0, 0, 0, 0, 0, 0, 0, 0, 0, 0, 1, 1, 0, 0, 0, 0, 0, 0, 0, 0, 0, 0, 0, 0, 0, 0, 0, 0, 0, 0, 0, 0, 0, 0, 0, 1, 0, 0, 0, 0, 0, 0, 0, 1, 0, 0, 0, 0, 0, 1, 0, 0, 0, 0, 0, 0, 0, 1, 0, 0, 0, 0, 0, 0, 0, 0, 0, 0, 0, 0, 0, 0, 0, 0, 0, 0, 0, 0, 0, 0, 0, 0, 0, 0, 0, 0, 0, 0, 0, 0, 0, 0, 0, 0, 0, 0, 0, 0, 0, 0, 0, 0, 0, 0, 0, 0, 0, 0, 0, 0, 0, 0, 0, 0, 1, 0, 0, 0, 0, 0, 1, 0, 0, 1, 0, 0, 0, 0, 0, 1, 0, 0, 0, 0, 0, 0, 0, 0, 1, 0, 0, 1, 0, 0, 0, 0, 0, 0, 0, 0, 1, 1, 0, 0, 0, 0, 0, 0, 0, 0, 0, 0, 0, 0, 0, 0, 0, 0, 0, 0, 0, 0, 0, 0, 1, 0, 1, 0, 0, 0, 0, 0, 0, 0, 1, 0, 0, 0, 0, 0, 0, 0, 0, 0, 0, 0, 0, 0, 0, 0, 0, 0, 1, 0, 0, 0, 0, 0, 0, 0, 1, 0, 1, 0, 0, 0, 0, 0, 0, 0, 0, 0, 0, 0, 0, 0, 0, 0, 0, 0, 0, 0, 0, 0, 0, 0, 1, 0, 0, 0, 0, 0, 0, 0, 0, 0, 0, 0, 0, 0, 0, 0, 0, 0, 0, 0, 0, 0, 0, 0, 0, 0, 0, 0, 0, 1, 0, 1, 0, 0, 0, 0, 0, 0, 0, 0, 0, 0, 0, 0, 0, 1, 0, 0, 0, 0, 1, 0, 0, 0, 0, 0, 0, 0, 0, 0, 0, 0, 0, 0, 0, 0, 0, 0, 0, 0, 1, 1, 0, 0, 1, 0, 0, 0, 0, 1, 0, 0, 0, 0, 0, 0, 1, 0, 0, 0, 0, 0, 0, 0, 0, 0, 0, 0, 0, 0, 1, 0, 0, 0, 1, 0, 1, 0, 0, 0, 0, 0, 0, 0, 0, 0, 0, 0, 0, 0, 0, 0, 1, 0, 1, 0, 1, 0, 0, 0, 0, 0, 0, 0, 0, 0, 0, 0, 0, 0, 0, 0, 0, 0, 0, 0, 0, 0, 0, 0, 0, 0, 0, 0, 0, 0, 0, 0, 0, 0, 0, 0, 0, 0, 0, 0, 0, 0, 0, 0, 0, 0, 0, 0, 1, 0, 0, 0, 0, 0, 0, 0, 0, 0, 1, 0, 0, 0, 0, 1, 0, 0, 0, 0, 0, 0, 0, 0, 0, 1, 1, 0, 0, 1, 0, 0, 0, 0, 0, 0, 0, 0, 0, 0, 0, 0, 0, 0, 0, 0, 0, 1, 0, 0, 0, 0, 0, 0, 0, 1, 0, 0, 0, 0, 0, 0, 1, 0, 0, 0, 0, 0, 0, 0, 0, 0, 0, 0, 0, 0, 0, 0, 0, 1, 1, 0, 0, 0, 0, 0, 0, 0, 1, 1, 1, 0, 0, 1, 0, 0, 0, 0, 0, 0, 0, 0, 0, 1, 0, 0, 0, 0, 0, 0, 0, 0, 0, 1, 0, 0, 0, 1, 0, 0, 0, 0, 0, 0, 0, 0, 1, 0, 0, 0, 0, 0, 0, 1, 0, 0, 1, 0, 0, 0, 0, 0, 0, 1, 0, 0, 0, 0, 0, 1, 0, 0, 0, 0, 0, 0, 0, 0, 0, 0, 0, 0, 0, 0, 0, 0, 0, 0, 0, 0, 0, 0, 0, 0, 0, 0, 0, 0, 1, 1, 0, 0, 0, 0, 0, 0, 0, 0, 0, 0, 0, 0, 0, 0, 0, 0, 0, 0, 0, 0, 0, 0, 0, 0, 0, 0, 0, 0, 0, 0, 0, 0]\n"
          ],
          "name": "stdout"
        }
      ]
    },
    {
      "metadata": {
        "id": "Z2tKx9slvGA_",
        "colab_type": "code",
        "outputId": "31fda9a2-8bd6-4738-ee83-0d3deee6c9bc",
        "colab": {
          "base_uri": "https://localhost:8080/",
          "height": 35
        }
      },
      "cell_type": "code",
      "source": [
        "from sklearn.model_selection import cross_val_score\n",
        "from sklearn import svm\n",
        "\n",
        "clf = svm.SVC(kernel='linear', C=1)\n",
        "scores = cross_val_score(clf, X1, y1, cv=5)\n",
        "s1 = scores\n",
        "print('Accuracy: ', scores.mean(), scores.std() * 2)\n"
      ],
      "execution_count": 0,
      "outputs": [
        {
          "output_type": "stream",
          "text": [
            "Accuracy:  0.8391157039135682 0.00720138345426663\n"
          ],
          "name": "stdout"
        }
      ]
    },
    {
      "metadata": {
        "id": "ucD4YlHKGKqT",
        "colab_type": "code",
        "outputId": "49ba7a2f-b7bc-4035-e4c1-657418d5ddef",
        "colab": {
          "base_uri": "https://localhost:8080/",
          "height": 55
        }
      },
      "cell_type": "code",
      "source": [
        "print(y)"
      ],
      "execution_count": 0,
      "outputs": [
        {
          "output_type": "stream",
          "text": [
            "['knew', '/iy/', '/diy/', '/n/', 'gnaw', '/n/', '/n/', '/tiy/', 'pot', 'gnaw', '/n/', '/uw/', '/piy/', 'pot', '/iy/', 'gnaw', '/iy/', '/diy/', 'gnaw', '/uw/', 'gnaw', '/tiy/', '/tiy/', '/diy/', '/m/', 'gnaw', '/uw/', '/iy/', '/m/', 'pat', '/diy/', '/uw/', '/m/', 'pat', '/iy/', '/uw/', '/m/', '/tiy/', '/piy/', '/uw/', '/tiy/', 'knew', 'gnaw', '/n/', '/uw/', '/tiy/', '/m/', 'pat', '/m/', 'gnaw', '/tiy/', '/m/', '/iy/', 'pat', 'pat', '/uw/', 'pot', '/iy/', 'pot', '/uw/', '/iy/', '/iy/', '/diy/', 'knew', '/iy/', '/iy/', '/tiy/', 'pot', '/tiy/', '/n/', '/m/', 'pat', '/piy/', '/iy/', '/diy/', '/m/', '/n/', '/iy/', '/n/', '/diy/', 'gnaw', '/uw/', 'pat', '/diy/', '/m/', 'pat', 'knew', '/iy/', '/iy/', 'gnaw', '/m/', '/tiy/', '/m/', 'knew', 'pat', '/diy/', 'pot', '/diy/', '/tiy/', 'pat', '/uw/', 'pot', '/uw/', '/diy/', 'pot', 'pot', '/n/', '/n/', '/m/', 'knew', '/n/', 'knew', '/tiy/', 'pat', '/m/', 'knew', 'knew', '/n/', 'knew', 'gnaw', '/m/', '/tiy/', '/diy/', 'pot', '/iy/', '/tiy/', '/piy/', '/m/', '/iy/', 'knew', 'gnaw', '/uw/', 'knew', 'pot', '/diy/', 'gnaw', 'pat', 'gnaw', '/piy/', 'knew', '/m/', 'knew', 'knew', '/uw/', '/uw/', '/uw/', 'pat', '/tiy/', '/piy/', '/n/', '/uw/', '/piy/', '/uw/', '/diy/', '/m/', 'pot', '/iy/', '/diy/', 'gnaw', '/m/', 'pat', '/uw/', 'pot', '/uw/', '/piy/', '/iy/', '/m/', 'gnaw', 'knew', '/uw/', '/n/', '/tiy/', '/m/', '/tiy/', '/m/', '/tiy/', '/piy/', '/iy/', 'knew', 'pot', 'gnaw', '/uw/', '/diy/', '/n/', '/n/', '/iy/', '/tiy/', 'knew', 'pot', '/piy/', '/uw/', 'gnaw', 'knew', '/iy/', '/tiy/', 'knew', 'pot', '/iy/', '/diy/', '/n/', '/diy/', '/n/', 'knew', '/m/', '/m/', '/tiy/', 'knew', '/m/', '/uw/', 'knew', 'knew', '/m/', 'pot', '/m/', 'gnaw', '/tiy/', 'knew', '/uw/', '/n/', 'pat', '/diy/', '/m/', 'gnaw', 'knew', '/uw/', '/uw/', '/m/', 'gnaw', '/iy/', '/iy/', '/m/', 'gnaw', '/tiy/', 'knew', '/piy/', '/diy/', '/tiy/', 'knew', '/n/', '/tiy/', '/iy/', '/n/', '/tiy/', '/uw/', 'knew', 'knew', 'gnaw', '/uw/', '/m/', '/diy/', '/m/', 'knew', '/m/', '/iy/', 'pot', '/iy/', '/uw/', '/diy/', 'gnaw', 'gnaw', 'gnaw', '/tiy/', '/tiy/', '/tiy/', '/m/', '/tiy/', 'knew', 'pat', 'pot', 'knew', 'knew', 'pot', 'knew', 'pot', '/iy/', '/piy/', 'gnaw', 'knew', '/uw/', '/m/', '/m/', '/uw/', '/tiy/', '/piy/', '/uw/', '/iy/', '/iy/', '/tiy/', '/uw/', 'gnaw', '/diy/', '/piy/', '/piy/', 'pot', 'gnaw', '/tiy/', 'knew', '/tiy/', 'pat', 'pat', '/tiy/', '/diy/', '/piy/', 'gnaw', 'gnaw', '/uw/', '/piy/', 'pat', 'knew', 'pat', '/iy/', '/piy/', '/iy/', '/diy/', '/m/', '/diy/', '/piy/', '/m/', 'knew', '/n/', '/iy/', '/uw/', 'pat', 'pat', 'pat', 'gnaw', '/iy/', '/tiy/', '/uw/', 'pot', '/piy/', 'pat', '/piy/', 'knew', '/tiy/', 'pot', '/diy/', 'pat', '/m/', '/iy/', '/diy/', '/m/', '/iy/', '/diy/', '/piy/', '/m/', 'pot', 'pot', '/m/', 'pat', '/m/', '/iy/', '/uw/', 'gnaw', '/tiy/', '/n/', 'pot', 'knew', '/piy/', '/piy/', 'pat', '/uw/', 'gnaw', 'pot', 'gnaw', '/diy/', '/n/', '/tiy/', 'pat', '/m/', '/diy/', '/iy/', 'gnaw', '/diy/', 'pot', 'knew', 'gnaw', '/tiy/', '/tiy/', 'gnaw', '/diy/', '/piy/', 'pat', '/diy/', '/iy/', '/uw/', '/diy/', '/uw/', '/diy/', '/m/', '/m/', 'knew', '/tiy/', 'knew', '/piy/', 'pat', '/piy/', '/n/', '/n/', 'pat', 'pat', '/piy/', '/piy/', '/tiy/', 'gnaw', 'knew', '/piy/', 'knew', 'knew', '/iy/', '/piy/', '/tiy/', 'gnaw', '/piy/', 'knew', '/piy/', '/m/', '/tiy/', '/m/', '/n/', 'pot', '/piy/', 'pat', 'gnaw', 'knew', '/n/', '/uw/', 'pat', '/uw/', 'knew', 'knew', 'pot', '/tiy/', '/m/', '/piy/', '/diy/', '/m/', 'knew', '/uw/', '/diy/', '/diy/', 'pot', '/n/', 'pot', '/m/', 'pat', 'pot', 'pat', '/n/', '/m/', 'gnaw', '/uw/', '/piy/', '/diy/', 'knew', 'pot', 'gnaw', '/piy/', 'gnaw', 'pat', '/n/', '/n/', '/piy/', 'pot', '/uw/', 'pot', 'pot', 'pot', '/m/', 'gnaw', '/piy/', '/tiy/', '/diy/', '/uw/', '/iy/', '/piy/', 'knew', '/piy/', 'gnaw', '/m/', '/m/', '/m/', 'gnaw', 'gnaw', 'knew', '/diy/', 'pat', 'pat', '/iy/', 'pat', '/uw/', '/n/', 'knew', '/tiy/', '/iy/', '/piy/', '/iy/', '/uw/', 'pat', 'pat', 'knew', '/iy/', 'pat', '/m/', '/piy/', '/n/', 'pot', 'pot', 'gnaw', '/tiy/', '/uw/', '/piy/', 'pot', 'knew', 'pat', '/piy/', 'pot', '/m/', 'pot', 'knew', '/m/', '/tiy/', '/tiy/', 'pat', '/tiy/', '/iy/', '/uw/', 'pot', '/uw/', 'gnaw', '/iy/', 'gnaw', '/diy/', 'knew', '/m/', '/uw/', '/iy/', '/n/', '/piy/', 'gnaw', 'pot', '/tiy/', 'pat', '/n/', '/uw/', '/diy/', '/m/', '/diy/', '/n/', '/uw/', '/n/', 'pot', 'pat', 'pat', '/piy/', '/tiy/', 'knew', '/diy/', 'pot', 'gnaw', 'pot', '/tiy/', 'gnaw', '/m/', '/diy/', 'gnaw', '/tiy/', '/piy/', '/m/', '/iy/', '/piy/', 'pot', 'pat', '/diy/', '/piy/', '/iy/', '/n/', '/diy/', '/diy/', '/diy/', '/uw/', '/n/', 'knew', '/uw/', 'knew', '/n/', 'gnaw', '/m/', '/n/', '/uw/', '/piy/', '/tiy/', 'pot', 'pot', '/n/', 'pot', '/n/', '/m/', 'pat', '/uw/', '/uw/', '/diy/', '/diy/', '/tiy/', 'knew', 'knew', 'knew', '/diy/', '/m/', '/n/', '/tiy/', 'gnaw', '/uw/', '/n/', 'pot', '/uw/', '/iy/', 'gnaw', '/m/', '/n/', 'gnaw', '/uw/', '/uw/', '/tiy/', '/diy/', '/iy/', '/n/', '/tiy/', '/m/', '/piy/', 'gnaw', 'pot', '/iy/', '/diy/', 'knew', '/uw/', 'gnaw', '/n/', '/iy/', 'pot', '/uw/', '/piy/', '/tiy/', '/n/', '/uw/', 'gnaw', '/diy/', '/uw/', 'pat', 'pat', 'knew', '/piy/', '/n/', '/iy/', 'pat', 'gnaw', '/n/', '/piy/', '/uw/', '/n/', 'pot', '/n/', '/uw/', '/tiy/', 'knew', '/n/', '/diy/', '/tiy/', '/diy/', '/uw/', 'pot', '/piy/', '/m/', '/n/', 'gnaw', '/n/', '/tiy/', '/iy/', '/tiy/', '/piy/', '/n/', '/n/', '/n/', '/iy/', '/m/', 'pot', '/piy/', 'knew', '/iy/', '/tiy/', '/diy/', '/diy/', 'pot', '/n/', 'gnaw', '/m/', '/tiy/', 'pot', 'pat', '/n/', '/uw/', '/tiy/', '/iy/', '/n/', 'pat', 'gnaw', '/m/', '/n/', '/diy/', '/iy/', 'gnaw', 'pat', 'pat', '/piy/', 'knew', 'knew', 'pot', 'pat', '/tiy/', 'knew', '/uw/', '/piy/', '/piy/', '/n/', '/uw/', '/n/', '/diy/', 'gnaw', 'pot', '/piy/', '/m/', '/iy/', '/iy/', '/diy/', '/piy/', '/n/', 'gnaw', '/iy/', '/uw/', 'pat', '/n/', 'knew', 'knew', '/n/', '/iy/', '/m/', '/n/', '/uw/', '/piy/', 'pot', '/m/', '/m/', 'gnaw', 'gnaw', '/piy/', 'gnaw', '/tiy/', '/iy/', '/n/', '/piy/', '/diy/', 'pat', 'pot', '/n/', '/piy/', 'pat', '/n/', 'gnaw', '/piy/', '/m/', 'pot', 'pat', 'knew', '/m/', 'gnaw', 'pot', 'knew', '/uw/', '/piy/', '/uw/', '/m/', '/uw/', '/iy/', 'pat', '/uw/', '/iy/', 'pot', '/diy/', '/diy/', '/tiy/', 'pot', '/piy/', 'knew', '/piy/', 'knew', '/iy/', '/uw/', '/diy/', '/iy/', 'gnaw', 'pot', 'pot', '/uw/', '/piy/', 'pat', '/piy/', '/piy/', '/m/', '/uw/', '/uw/', 'pat', '/tiy/', '/m/', '/n/', 'pot', '/iy/', '/uw/', 'pat', 'pat', '/n/', '/iy/', '/tiy/', '/piy/', '/iy/', 'pat', '/piy/', 'pat', 'gnaw', '/uw/', 'pat', 'pat', '/iy/', 'gnaw', '/iy/', 'gnaw', '/uw/', 'gnaw', 'pat', '/diy/', '/piy/', 'pat', '/n/', '/iy/', 'knew', '/piy/', 'pot', 'knew', 'pot', '/n/', '/tiy/', '/m/', '/m/', 'gnaw', '/n/', 'pat', '/iy/', '/m/', 'pat', '/piy/', 'pot', '/n/', '/uw/', '/diy/', 'pot', 'gnaw', 'knew', '/diy/', '/diy/', '/diy/', '/tiy/', '/tiy/', 'pot', '/diy/', '/uw/', 'gnaw', 'pot', 'gnaw', '/n/', '/uw/', 'knew', '/m/', 'pot', '/m/', '/uw/', 'pot', '/uw/', 'pot', '/piy/', '/uw/', '/uw/', '/m/', '/iy/', '/piy/', '/diy/', 'pot', '/m/', '/diy/', '/n/', '/diy/', '/n/', 'pat', '/uw/', '/piy/', '/n/', '/tiy/', 'gnaw', '/m/', 'gnaw', '/uw/', 'knew', '/tiy/', '/n/', '/n/', '/n/', 'pot', '/piy/', '/m/', '/uw/', 'pat', 'pat', 'gnaw', 'knew', '/piy/', 'pat', '/diy/', '/n/', '/diy/', '/diy/', '/iy/', 'pat', 'pat', '/iy/', '/diy/', '/piy/', '/iy/', '/piy/', 'knew', '/uw/', 'knew', 'gnaw', 'pot', 'knew', 'gnaw', 'gnaw', '/iy/', '/iy/', 'gnaw', '/diy/', 'gnaw', 'pat', 'knew', '/n/', '/n/', 'pat', '/iy/', '/uw/', 'gnaw', '/n/', '/m/', '/m/', 'gnaw', '/n/', '/n/', 'pat', '/tiy/', 'pat', '/uw/', '/iy/', 'pat', '/piy/', 'knew', '/uw/', '/diy/', '/n/', '/uw/', 'knew', '/uw/', '/n/', '/diy/', '/piy/', '/n/', 'pat', '/piy/', 'knew', '/diy/', 'knew', '/diy/', 'pat', '/uw/', 'knew', '/m/', '/m/', '/tiy/', '/m/', '/n/', '/uw/', '/piy/', '/tiy/', 'gnaw', 'knew', '/piy/', '/n/', '/tiy/', '/m/', '/diy/', '/diy/', 'pot', '/uw/', 'knew', '/tiy/', 'gnaw', '/tiy/', '/m/', 'pot', '/iy/', '/m/', '/tiy/', 'pat', '/n/', 'pot', '/tiy/', 'pat', '/tiy/', '/m/', 'knew', 'pat', '/m/', 'gnaw', '/uw/', '/diy/', '/tiy/', '/tiy/', '/tiy/', 'pat', 'gnaw', '/n/', 'knew', '/diy/', 'gnaw', '/m/', '/tiy/', '/tiy/', '/tiy/', '/diy/', 'gnaw', 'pot', '/n/', '/n/', 'pot', 'knew', 'gnaw', '/diy/', '/piy/', 'gnaw', '/n/', 'pot', 'gnaw', '/n/', '/n/', '/n/', '/m/', '/tiy/', '/m/', '/uw/', '/piy/', '/iy/', '/n/', 'knew', 'pot', '/m/', '/iy/', '/tiy/', 'pot', '/iy/', '/m/', 'gnaw', '/m/', 'pot', 'pot', '/tiy/', '/iy/', 'knew', '/iy/', 'pot', '/piy/', 'pat', 'gnaw', '/tiy/', 'pat', 'pat', '/m/', '/m/', '/iy/', '/m/', 'pot', '/piy/', '/piy/', '/piy/', 'knew', '/uw/', 'pat', 'gnaw', '/piy/', '/m/', '/tiy/', '/m/', '/m/', '/uw/', '/diy/', '/iy/', '/m/', 'knew', '/tiy/', '/piy/', '/diy/', '/n/', 'knew', '/diy/', 'gnaw', 'pat', '/piy/', 'knew', '/iy/', '/diy/', 'gnaw', '/uw/', '/tiy/', '/tiy/', '/n/', '/n/', 'pot', '/uw/', '/diy/', '/iy/', 'pat', '/diy/', 'pat', '/iy/', 'pot', '/piy/', '/tiy/', '/tiy/', '/m/', '/tiy/', '/diy/', '/diy/', 'knew', 'knew', '/n/', '/piy/', 'pot', '/iy/', 'pat', '/n/', 'gnaw', '/uw/', 'gnaw', '/piy/', '/uw/', 'gnaw', 'pot', '/n/', '/m/', '/tiy/', '/tiy/', 'knew', '/uw/', '/n/', '/diy/', '/uw/', '/diy/', '/iy/', '/tiy/', 'pot', '/tiy/', 'pat', 'gnaw', '/iy/', '/diy/', '/piy/', '/uw/', 'knew', '/iy/', '/piy/', 'knew', 'gnaw', '/iy/', 'gnaw', '/piy/', 'gnaw', '/m/', '/iy/', 'pot', '/m/', '/uw/', '/uw/', '/diy/', '/n/', '/iy/', '/iy/', 'pat', '/iy/', 'knew', 'knew', '/diy/', '/n/', '/diy/', 'gnaw', '/tiy/', '/n/', '/n/', 'knew', '/piy/', 'pot', '/m/', '/tiy/', '/uw/', '/piy/', 'pat', '/n/', '/piy/', 'pot', 'knew', 'gnaw', '/piy/', 'pot', '/tiy/', 'knew', 'pat', 'pot', '/diy/', 'pot', 'pat', 'pot', '/uw/', 'pat', '/iy/', '/iy/', 'knew', '/iy/', '/uw/', '/tiy/', '/tiy/', 'gnaw', 'knew', 'gnaw', 'gnaw', '/uw/', '/m/', 'pat', 'pot', 'pot', '/m/', '/iy/', 'pot', '/m/', '/uw/', '/iy/', '/iy/', '/diy/', 'knew', '/diy/', '/tiy/', '/n/', '/piy/', '/iy/', '/piy/', '/m/', '/iy/', 'gnaw', '/uw/', 'pat', '/piy/', '/piy/', '/m/', '/diy/', 'gnaw', '/tiy/', '/tiy/', '/iy/', '/diy/', '/uw/', 'knew', '/n/', '/piy/', '/tiy/', 'gnaw', '/tiy/', '/piy/', 'pot', '/iy/', '/n/', '/m/', '/iy/', '/iy/', '/iy/', 'pat', '/n/', '/tiy/', 'pat', '/diy/', '/diy/', '/tiy/', '/tiy/', '/diy/', '/m/', '/piy/', '/n/', '/n/', '/diy/', '/n/', 'gnaw', 'gnaw', 'pot', '/m/', '/n/', '/diy/', '/m/', 'pat', 'pat', '/piy/', 'pat', 'pat', 'knew', 'pat', '/tiy/', 'gnaw', 'gnaw', 'pat', '/m/', '/diy/', '/piy/', '/m/', '/iy/', '/diy/', 'gnaw', '/diy/', 'gnaw', '/m/', 'pot', 'pot', '/tiy/', 'knew', '/piy/', 'pot', '/iy/', '/tiy/', 'pat', 'pot', '/uw/', 'pot', '/iy/', '/diy/', 'pot', '/diy/', '/uw/', '/diy/', '/tiy/', '/m/', '/m/', '/piy/', '/tiy/', '/iy/', '/m/', 'knew', '/n/', '/m/', '/m/', '/uw/', '/n/', 'pat', '/piy/', 'gnaw', 'gnaw', '/m/', '/piy/', 'knew', 'pat', '/piy/', 'pot', '/iy/', 'gnaw', 'pot', '/tiy/', 'knew', 'pat', 'pot', '/n/', '/uw/', '/uw/', '/uw/', 'knew', '/tiy/', 'gnaw', '/uw/', 'knew', '/uw/', 'pat', 'gnaw', '/uw/', '/piy/', 'pat', 'pot', '/iy/', '/diy/', 'pat', 'knew', 'pat', 'pot', '/piy/', 'pat', 'pat', 'knew', '/n/', '/diy/', 'pot', 'pat', 'pat', 'knew', '/diy/', '/uw/', 'gnaw', 'knew', 'knew', 'pot', 'pat', '/m/', 'pat', 'gnaw', '/diy/', '/diy/', '/uw/', '/tiy/', '/diy/', 'gnaw', '/m/', '/m/', 'pot', '/piy/', '/n/', 'gnaw', '/uw/', '/tiy/', 'knew', 'knew', '/iy/', '/m/', 'gnaw', '/n/', '/piy/', '/iy/', '/diy/', '/iy/', 'pot', 'pat', '/tiy/', '/n/', '/piy/', '/iy/', '/diy/', 'knew', 'pat', '/n/', 'gnaw', 'pat', '/tiy/', '/diy/', 'pat', '/piy/', '/tiy/', '/m/', 'gnaw', '/tiy/', '/iy/', 'knew', 'pot', 'pot', 'knew', 'pat', '/iy/', 'pot', 'knew', '/iy/', '/diy/', '/diy/', 'pot', '/piy/', 'pat', '/n/', 'pot', '/uw/', '/piy/', '/diy/', '/diy/', '/diy/', '/piy/', '/piy/', '/diy/', 'gnaw', '/tiy/', 'pat', '/tiy/', 'pot', '/piy/', '/piy/', 'pot', '/piy/', '/diy/', '/uw/', '/n/', '/iy/', '/tiy/', '/piy/', '/piy/', '/m/', '/n/', '/n/', '/diy/', '/iy/', 'gnaw', 'gnaw', '/diy/', 'pat', '/iy/', '/tiy/', '/iy/', 'pot', '/piy/', '/n/', '/n/', '/diy/', '/piy/', '/n/', '/m/', '/piy/', 'knew', 'pot', '/diy/', '/tiy/', 'pat', '/diy/', '/iy/', 'pot', '/n/', '/uw/', '/n/', 'pat', '/diy/', 'gnaw', '/m/', '/piy/', '/iy/', '/n/', '/diy/', 'knew', 'pat', '/piy/', '/iy/', '/n/', 'pat', 'pat', '/tiy/', 'gnaw', '/uw/', 'knew', '/m/', 'knew', '/piy/', '/tiy/', 'knew', '/uw/', 'pat', '/iy/', '/piy/', '/iy/', '/iy/', '/iy/', '/m/', '/n/', 'pat', 'pot', 'pot', '/diy/', '/diy/', '/tiy/', 'pot', '/tiy/', 'pot', 'knew', 'gnaw', 'pot', '/tiy/', '/m/', 'knew', 'pot', 'knew', '/piy/', '/uw/', '/iy/', '/tiy/', '/tiy/', 'pot', '/iy/', '/uw/', 'pat', '/n/', 'pot', 'pat', 'pot', '/iy/', '/uw/', 'knew', '/uw/', 'knew', '/iy/', 'gnaw']\n"
          ],
          "name": "stdout"
        }
      ]
    },
    {
      "metadata": {
        "id": "OtFCO9lFBZg7",
        "colab_type": "code",
        "outputId": "72efb442-9cdf-460d-83d9-cbd3ac5ad265",
        "colab": {
          "base_uri": "https://localhost:8080/",
          "height": 35
        }
      },
      "cell_type": "code",
      "source": [
        "cur_class = 1\n",
        "y1 = y[:]\n",
        "for i in range(len(y)):\n",
        "  if y1[i] == y_set[cur_class]:\n",
        "    y1[i] = 1\n",
        "  else:\n",
        "    y1[i] = 0\n",
        "    \n",
        "from sklearn.model_selection import cross_val_score\n",
        "from sklearn import svm\n",
        "\n",
        "clf = svm.SVC(kernel='linear', C=1)\n",
        "scores = cross_val_score(clf, X1, y1, cv=5)\n",
        "s1 = scores\n",
        "print('Accuracy: ', scores.mean(), scores.std() * 2)"
      ],
      "execution_count": 0,
      "outputs": [
        {
          "output_type": "stream",
          "text": [
            "Accuracy:  0.8459115606578254 0.015487278102327981\n"
          ],
          "name": "stdout"
        }
      ]
    },
    {
      "metadata": {
        "id": "GibyjAFKvUeg",
        "colab_type": "code",
        "outputId": "f4c684dc-8e0a-4d51-bddf-7204d3856312",
        "colab": {
          "base_uri": "https://localhost:8080/",
          "height": 35
        }
      },
      "cell_type": "code",
      "source": [
        "cur_class = 2\n",
        "y1 = y[:]\n",
        "for i in range(len(y)):\n",
        "  if y1[i] == y_set[cur_class]:\n",
        "    y1[i] = 1\n",
        "  else:\n",
        "    y1[i] = 0\n",
        "    \n",
        "from sklearn.model_selection import cross_val_score\n",
        "from sklearn import svm\n",
        "\n",
        "clf = svm.SVC(kernel='linear', C=1)\n",
        "scores = cross_val_score(clf, X1, y1, cv=5)\n",
        "s1 = scores\n",
        "print('Accuracy: ', scores.mean(), scores.std() * 2)"
      ],
      "execution_count": 0,
      "outputs": [
        {
          "output_type": "stream",
          "text": [
            "Accuracy:  0.8378735034992045 0.019723530444125958\n"
          ],
          "name": "stdout"
        }
      ]
    },
    {
      "metadata": {
        "id": "QqckKd7xANU_",
        "colab_type": "code",
        "outputId": "254774e8-336a-4d42-b355-50f527eb16d6",
        "colab": {
          "base_uri": "https://localhost:8080/",
          "height": 35
        }
      },
      "cell_type": "code",
      "source": [
        "cur_class = 3\n",
        "y1 = y[:]\n",
        "for i in range(len(y)):\n",
        "  if y1[i] == y_set[cur_class]:\n",
        "    y1[i] = 1\n",
        "  else:\n",
        "    y1[i] = 0\n",
        "    \n",
        "from sklearn.model_selection import cross_val_score\n",
        "from sklearn import svm\n",
        "\n",
        "clf = svm.SVC(kernel='linear', C=1)\n",
        "scores = cross_val_score(clf, X1, y1, cv=5)\n",
        "s1 = scores\n",
        "print('Accuracy: ', scores.mean(), scores.std() * 2)"
      ],
      "execution_count": 0,
      "outputs": [
        {
          "output_type": "stream",
          "text": [
            "Accuracy:  0.8298354226002631 0.022228942788677663\n"
          ],
          "name": "stdout"
        }
      ]
    },
    {
      "metadata": {
        "id": "WRTywg-xHRQH",
        "colab_type": "code",
        "outputId": "177ee6a5-f7b6-4d1f-dbde-2e90f0b3a00a",
        "colab": {
          "base_uri": "https://localhost:8080/",
          "height": 35
        }
      },
      "cell_type": "code",
      "source": [
        "cur_class = 4\n",
        "y1 = y[:]\n",
        "for i in range(len(y)):\n",
        "  if y1[i] == y_set[cur_class]:\n",
        "    y1[i] = 1\n",
        "  else:\n",
        "    y1[i] = 0\n",
        "    \n",
        "from sklearn.model_selection import cross_val_score\n",
        "from sklearn import svm\n",
        "\n",
        "clf = svm.SVC(kernel='linear', C=1)\n",
        "scores = cross_val_score(clf, X1, y1, cv=5)\n",
        "s1 = scores\n",
        "print('Accuracy: ', scores.mean(), scores.std() * 2)"
      ],
      "execution_count": 0,
      "outputs": [
        {
          "output_type": "stream",
          "text": [
            "Accuracy:  0.8465748533501035 0.04419510696323953\n"
          ],
          "name": "stdout"
        }
      ]
    },
    {
      "metadata": {
        "id": "Upd-ZOGqHehn",
        "colab_type": "code",
        "outputId": "f0f615e2-debe-4744-b14b-7d91695476ff",
        "colab": {
          "base_uri": "https://localhost:8080/",
          "height": 35
        }
      },
      "cell_type": "code",
      "source": [
        "cur_class = 5\n",
        "y1 = y[:]\n",
        "for i in range(len(y)):\n",
        "  if y1[i] == y_set[cur_class]:\n",
        "    y1[i] = 1\n",
        "  else:\n",
        "    y1[i] = 0\n",
        "    \n",
        "from sklearn.model_selection import cross_val_score\n",
        "from sklearn import svm\n",
        "\n",
        "clf = svm.SVC(kernel='linear', C=1)\n",
        "scores = cross_val_score(clf, X1, y1, cv=5)\n",
        "s1 = scores\n",
        "print('Accuracy: ', scores.mean(), scores.std() * 2)"
      ],
      "execution_count": 0,
      "outputs": [
        {
          "output_type": "stream",
          "text": [
            "Accuracy:  0.8366120971653345 0.02449185839264681\n"
          ],
          "name": "stdout"
        }
      ]
    },
    {
      "metadata": {
        "id": "idtEZtFJH0cp",
        "colab_type": "code",
        "outputId": "a36a9f3a-d054-4fcb-accc-1e12a15bdccb",
        "colab": {
          "base_uri": "https://localhost:8080/",
          "height": 35
        }
      },
      "cell_type": "code",
      "source": [
        "cur_class = 6\n",
        "y1 = y[:]\n",
        "for i in range(len(y)):\n",
        "  if y1[i] == y_set[cur_class]:\n",
        "    y1[i] = 1\n",
        "  else:\n",
        "    y1[i] = 0\n",
        "    \n",
        "from sklearn.model_selection import cross_val_score\n",
        "from sklearn import svm\n",
        "\n",
        "clf = svm.SVC(kernel='linear', C=1)\n",
        "scores = cross_val_score(clf, X1, y1, cv=5)\n",
        "s1 = scores\n",
        "print('Accuracy: ', scores.mean(), scores.std() * 2)"
      ],
      "execution_count": 0,
      "outputs": [
        {
          "output_type": "stream",
          "text": [
            "Accuracy:  0.8230414176010262 0.034809106815707154\n"
          ],
          "name": "stdout"
        }
      ]
    },
    {
      "metadata": {
        "id": "z3K03GDSH5zf",
        "colab_type": "code",
        "outputId": "5babc4b9-a3de-4d3c-b136-1999d3efa571",
        "colab": {
          "base_uri": "https://localhost:8080/",
          "height": 35
        }
      },
      "cell_type": "code",
      "source": [
        "cur_class = 7\n",
        "y1 = y[:]\n",
        "for i in range(len(y)):\n",
        "  if y1[i] == y_set[cur_class]:\n",
        "    y1[i] = 1\n",
        "  else:\n",
        "    y1[i] = 0\n",
        "    \n",
        "from sklearn.model_selection import cross_val_score\n",
        "from sklearn import svm\n",
        "\n",
        "clf = svm.SVC(kernel='linear', C=1)\n",
        "scores = cross_val_score(clf, X1, y1, cv=5)\n",
        "s1 = scores\n",
        "print('Accuracy: ', scores.mean(), scores.std() * 2)"
      ],
      "execution_count": 0,
      "outputs": [
        {
          "output_type": "stream",
          "text": [
            "Accuracy:  0.8298411914982113 0.026487202156189903\n"
          ],
          "name": "stdout"
        }
      ]
    },
    {
      "metadata": {
        "id": "Qj5e-EaXIEjH",
        "colab_type": "code",
        "outputId": "00183ea4-a2dc-405d-a149-5fab91d91f1d",
        "colab": {
          "base_uri": "https://localhost:8080/",
          "height": 35
        }
      },
      "cell_type": "code",
      "source": [
        "cur_class = 8\n",
        "y1 = y[:]\n",
        "for i in range(len(y)):\n",
        "  if y1[i] == y_set[cur_class]:\n",
        "    y1[i] = 1\n",
        "  else:\n",
        "    y1[i] = 0\n",
        "    \n",
        "from sklearn.model_selection import cross_val_score\n",
        "from sklearn import svm\n",
        "\n",
        "clf = svm.SVC(kernel='linear', C=1)\n",
        "scores = cross_val_score(clf, X1, y1, cv=5)\n",
        "s1 = scores\n",
        "print('Accuracy: ', scores.mean(), scores.std() * 2)"
      ],
      "execution_count": 0,
      "outputs": [
        {
          "output_type": "stream",
          "text": [
            "Accuracy:  0.8354087833963995 0.02717538585702705\n"
          ],
          "name": "stdout"
        }
      ]
    },
    {
      "metadata": {
        "id": "9bIvrfbMIJlC",
        "colab_type": "code",
        "outputId": "862e249a-6cdc-4879-8b5c-907e21aea8dc",
        "colab": {
          "base_uri": "https://localhost:8080/",
          "height": 35
        }
      },
      "cell_type": "code",
      "source": [
        "cur_class = 9\n",
        "y1 = y[:]\n",
        "for i in range(len(y)):\n",
        "  if y1[i] == y_set[cur_class]:\n",
        "    y1[i] = 1\n",
        "  else:\n",
        "    y1[i] = 0\n",
        "    \n",
        "from sklearn.model_selection import cross_val_score\n",
        "from sklearn import svm\n",
        "\n",
        "clf = svm.SVC(kernel='linear', C=1)\n",
        "scores = cross_val_score(clf, X1, y1, cv=5)\n",
        "s1 = scores\n",
        "print('Accuracy: ', scores.mean(), scores.std() * 2)"
      ],
      "execution_count": 0,
      "outputs": [
        {
          "output_type": "stream",
          "text": [
            "Accuracy:  0.8341659776038561 0.01170796842703718\n"
          ],
          "name": "stdout"
        }
      ]
    },
    {
      "metadata": {
        "id": "bnLyCnd5IPKw",
        "colab_type": "code",
        "outputId": "e3c29fb3-d1a8-43c1-f052-ede31fd47c08",
        "colab": {
          "base_uri": "https://localhost:8080/",
          "height": 35
        }
      },
      "cell_type": "code",
      "source": [
        "cur_class = 10\n",
        "y1 = y[:]\n",
        "for i in range(len(y)):\n",
        "  if y1[i] == y_set[cur_class]:\n",
        "    y1[i] = 1\n",
        "  else:\n",
        "    y1[i] = 0\n",
        "    \n",
        "from sklearn.model_selection import cross_val_score\n",
        "from sklearn import svm\n",
        "\n",
        "clf = svm.SVC(kernel='linear', C=1)\n",
        "scores = cross_val_score(clf, X1, y1, cv=5)\n",
        "s1 = scores\n",
        "print('Accuracy: ', scores.mean(), scores.std() * 2)"
      ],
      "execution_count": 0,
      "outputs": [
        {
          "output_type": "stream",
          "text": [
            "Accuracy:  0.823010816327548 0.027734288600653627\n"
          ],
          "name": "stdout"
        }
      ]
    },
    {
      "metadata": {
        "id": "znQZevMjITUJ",
        "colab_type": "code",
        "outputId": "fea5ed0c-baad-444d-808e-bdd5d7a3ecf8",
        "colab": {
          "base_uri": "https://localhost:8080/",
          "height": 35
        }
      },
      "cell_type": "code",
      "source": [
        "print('nabil')"
      ],
      "execution_count": 0,
      "outputs": [
        {
          "output_type": "stream",
          "text": [
            "nabil\n"
          ],
          "name": "stdout"
        }
      ]
    },
    {
      "metadata": {
        "id": "4ZGp3UWUIXP5",
        "colab_type": "code",
        "colab": {}
      },
      "cell_type": "code",
      "source": [
        ""
      ],
      "execution_count": 0,
      "outputs": []
    }
  ]
}