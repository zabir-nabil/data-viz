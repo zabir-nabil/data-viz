{
  "nbformat": 4,
  "nbformat_minor": 0,
  "metadata": {
    "colab": {
      "name": "tan_cnn_char.ipynb",
      "version": "0.3.2",
      "provenance": [],
      "collapsed_sections": [],
      "include_colab_link": true
    },
    "kernelspec": {
      "name": "python3",
      "display_name": "Python 3"
    },
    "accelerator": "GPU"
  },
  "cells": [
    {
      "cell_type": "markdown",
      "metadata": {
        "id": "view-in-github",
        "colab_type": "text"
      },
      "source": [
        "<a href=\"https://colab.research.google.com/github/zabir-nabil/data-viz/blob/master/tan_cnn_char.ipynb\" target=\"_parent\"><img src=\"https://colab.research.google.com/assets/colab-badge.svg\" alt=\"Open In Colab\"/></a>"
      ]
    },
    {
      "metadata": {
        "id": "K1ct0NLW1xKk",
        "colab_type": "code",
        "colab": {
          "base_uri": "https://localhost:8080/",
          "height": 35
        },
        "outputId": "93b8ad62-d3c0-4b70-d018-fea22031b4d5"
      },
      "cell_type": "code",
      "source": [
        "print('nabil')"
      ],
      "execution_count": 43,
      "outputs": [
        {
          "output_type": "stream",
          "text": [
            "nabil\n"
          ],
          "name": "stdout"
        }
      ]
    },
    {
      "metadata": {
        "id": "oF4VRIEN75yM",
        "colab_type": "code",
        "colab": {
          "base_uri": "https://localhost:8080/",
          "height": 35
        },
        "outputId": "6b72e065-5f0e-4486-87f1-c5d1b3a8db0e"
      },
      "cell_type": "code",
      "source": [
        "# generating dummy image data\n",
        "import cv2\n",
        "import numpy as np\n",
        "bb = np.zeros([500,500,3])\n",
        "ww = 255*np.ones([500,500,3])\n",
        "# class 1\n",
        "cv2.imwrite('img1.png', bb)\n",
        "cv2.imwrite('img2.png', bb)\n",
        "cv2.imwrite('img3.png', bb)\n",
        "cv2.imwrite('img4.png', bb)\n",
        "cv2.imwrite('img5.png', bb)\n",
        "cv2.imwrite('img6.png', bb)\n",
        "cv2.imwrite('img7.png', bb)\n",
        "cv2.imwrite('img8.png', bb)\n",
        "\n",
        "# class 2\n",
        "cv2.imwrite('img11.png', ww)\n",
        "cv2.imwrite('img12.png', ww)\n",
        "cv2.imwrite('img13.png', ww)\n",
        "cv2.imwrite('img14.png', ww)\n",
        "cv2.imwrite('img15.png', ww)\n",
        "cv2.imwrite('img16.png', ww)\n",
        "cv2.imwrite('img17.png', ww)\n",
        "cv2.imwrite('img18.png', ww)\n",
        "\n",
        "# do it for 8 more classes, it's dummy data, not needed"
      ],
      "execution_count": 59,
      "outputs": [
        {
          "output_type": "execute_result",
          "data": {
            "text/plain": [
              "True"
            ]
          },
          "metadata": {
            "tags": []
          },
          "execution_count": 59
        }
      ]
    },
    {
      "metadata": {
        "id": "UOHcqOHe28Tc",
        "colab_type": "code",
        "colab": {}
      },
      "cell_type": "code",
      "source": [
        "# dummy csv file for class 0 (simulated)\n",
        "import csv\n",
        "\n",
        "with open('test1.csv', 'w') as csvfile:\n",
        "    fieldnames = ['1'] # class label\n",
        "    writer = csv.DictWriter(csvfile, fieldnames=fieldnames)\n",
        "\n",
        "    writer.writeheader()\n",
        "    writer.writerow({'1' : 'img1.png'})\n",
        "    writer.writerow({'1' : 'img2.png'})\n",
        "    writer.writerow({'1' : 'img3.png'})\n",
        "    writer.writerow({'1' : 'img4.png'})\n",
        "    writer.writerow({'1' : 'img5.png'})\n",
        "    writer.writerow({'1' : 'img6.png'})\n",
        "    writer.writerow({'1' : 'img7.png'})\n",
        "    writer.writerow({'1' : 'img8.png'})"
      ],
      "execution_count": 0,
      "outputs": []
    },
    {
      "metadata": {
        "id": "lV055u3NBG_s",
        "colab_type": "code",
        "colab": {}
      },
      "cell_type": "code",
      "source": [
        "with open('test2.csv', 'w') as csvfile:\n",
        "    fieldnames = ['2'] # class label\n",
        "    writer = csv.DictWriter(csvfile, fieldnames=fieldnames)\n",
        "\n",
        "    writer.writeheader()\n",
        "    writer.writerow({'2' : 'img11.png'})\n",
        "    writer.writerow({'2' : 'img12.png'})\n",
        "    writer.writerow({'2' : 'img13.png'})\n",
        "    writer.writerow({'2' : 'img14.png'})\n",
        "    writer.writerow({'2' : 'img15.png'})\n",
        "    writer.writerow({'2' : 'img16.png'})\n",
        "    writer.writerow({'2' : 'img17.png'})\n",
        "    writer.writerow({'2' : 'img18.png'})"
      ],
      "execution_count": 0,
      "outputs": []
    },
    {
      "metadata": {
        "id": "SOk8qii83ZlT",
        "colab_type": "code",
        "colab": {
          "base_uri": "https://localhost:8080/",
          "height": 300
        },
        "outputId": "500ac067-9741-4e69-a94b-a20aa40ea26a"
      },
      "cell_type": "code",
      "source": [
        "# test dummy csv data\n",
        "\n",
        "import pandas as pd\n",
        "\n",
        "test1 = pd.read_csv('test1.csv', delimiter=',')\n",
        "test1.head(8) # first cell = label, other rows = image links\n"
      ],
      "execution_count": 62,
      "outputs": [
        {
          "output_type": "execute_result",
          "data": {
            "text/html": [
              "<div>\n",
              "<style scoped>\n",
              "    .dataframe tbody tr th:only-of-type {\n",
              "        vertical-align: middle;\n",
              "    }\n",
              "\n",
              "    .dataframe tbody tr th {\n",
              "        vertical-align: top;\n",
              "    }\n",
              "\n",
              "    .dataframe thead th {\n",
              "        text-align: right;\n",
              "    }\n",
              "</style>\n",
              "<table border=\"1\" class=\"dataframe\">\n",
              "  <thead>\n",
              "    <tr style=\"text-align: right;\">\n",
              "      <th></th>\n",
              "      <th>1</th>\n",
              "    </tr>\n",
              "  </thead>\n",
              "  <tbody>\n",
              "    <tr>\n",
              "      <th>0</th>\n",
              "      <td>img1.png</td>\n",
              "    </tr>\n",
              "    <tr>\n",
              "      <th>1</th>\n",
              "      <td>img2.png</td>\n",
              "    </tr>\n",
              "    <tr>\n",
              "      <th>2</th>\n",
              "      <td>img3.png</td>\n",
              "    </tr>\n",
              "    <tr>\n",
              "      <th>3</th>\n",
              "      <td>img4.png</td>\n",
              "    </tr>\n",
              "    <tr>\n",
              "      <th>4</th>\n",
              "      <td>img5.png</td>\n",
              "    </tr>\n",
              "    <tr>\n",
              "      <th>5</th>\n",
              "      <td>img6.png</td>\n",
              "    </tr>\n",
              "    <tr>\n",
              "      <th>6</th>\n",
              "      <td>img7.png</td>\n",
              "    </tr>\n",
              "    <tr>\n",
              "      <th>7</th>\n",
              "      <td>img8.png</td>\n",
              "    </tr>\n",
              "  </tbody>\n",
              "</table>\n",
              "</div>"
            ],
            "text/plain": [
              "          1\n",
              "0  img1.png\n",
              "1  img2.png\n",
              "2  img3.png\n",
              "3  img4.png\n",
              "4  img5.png\n",
              "5  img6.png\n",
              "6  img7.png\n",
              "7  img8.png"
            ]
          },
          "metadata": {
            "tags": []
          },
          "execution_count": 62
        }
      ]
    },
    {
      "metadata": {
        "id": "jeGdSTnkBmDb",
        "colab_type": "code",
        "colab": {
          "base_uri": "https://localhost:8080/",
          "height": 300
        },
        "outputId": "2469fe44-302d-438e-be4e-dc93af1d6b27"
      },
      "cell_type": "code",
      "source": [
        "\n",
        "test2 = pd.read_csv('test2.csv', delimiter=',')\n",
        "test2.head(8) # first cell = label, other rows = image links"
      ],
      "execution_count": 63,
      "outputs": [
        {
          "output_type": "execute_result",
          "data": {
            "text/html": [
              "<div>\n",
              "<style scoped>\n",
              "    .dataframe tbody tr th:only-of-type {\n",
              "        vertical-align: middle;\n",
              "    }\n",
              "\n",
              "    .dataframe tbody tr th {\n",
              "        vertical-align: top;\n",
              "    }\n",
              "\n",
              "    .dataframe thead th {\n",
              "        text-align: right;\n",
              "    }\n",
              "</style>\n",
              "<table border=\"1\" class=\"dataframe\">\n",
              "  <thead>\n",
              "    <tr style=\"text-align: right;\">\n",
              "      <th></th>\n",
              "      <th>2</th>\n",
              "    </tr>\n",
              "  </thead>\n",
              "  <tbody>\n",
              "    <tr>\n",
              "      <th>0</th>\n",
              "      <td>img11.png</td>\n",
              "    </tr>\n",
              "    <tr>\n",
              "      <th>1</th>\n",
              "      <td>img12.png</td>\n",
              "    </tr>\n",
              "    <tr>\n",
              "      <th>2</th>\n",
              "      <td>img13.png</td>\n",
              "    </tr>\n",
              "    <tr>\n",
              "      <th>3</th>\n",
              "      <td>img14.png</td>\n",
              "    </tr>\n",
              "    <tr>\n",
              "      <th>4</th>\n",
              "      <td>img15.png</td>\n",
              "    </tr>\n",
              "    <tr>\n",
              "      <th>5</th>\n",
              "      <td>img16.png</td>\n",
              "    </tr>\n",
              "    <tr>\n",
              "      <th>6</th>\n",
              "      <td>img17.png</td>\n",
              "    </tr>\n",
              "    <tr>\n",
              "      <th>7</th>\n",
              "      <td>img18.png</td>\n",
              "    </tr>\n",
              "  </tbody>\n",
              "</table>\n",
              "</div>"
            ],
            "text/plain": [
              "           2\n",
              "0  img11.png\n",
              "1  img12.png\n",
              "2  img13.png\n",
              "3  img14.png\n",
              "4  img15.png\n",
              "5  img16.png\n",
              "6  img17.png\n",
              "7  img18.png"
            ]
          },
          "metadata": {
            "tags": []
          },
          "execution_count": 63
        }
      ]
    },
    {
      "metadata": {
        "id": "47MVhP-916qq",
        "colab_type": "code",
        "colab": {
          "base_uri": "https://localhost:8080/",
          "height": 110
        },
        "outputId": "142f087b-6fee-416d-a36e-781bf51d4ef7"
      },
      "cell_type": "code",
      "source": [
        "# read all the csv files\n",
        "\n",
        "# 1st class\n",
        "\n",
        "import pandas as pd\n",
        "# replace the paths with actual csv links\n",
        "cls1 = pd.read_csv('test1.csv')\n",
        "list_of_files1 = cls1.to_dict('records')\n",
        "\n",
        "print(list_of_files1) # the dictionary\n",
        "class_label = '1' # the first cell of csv file\n",
        "list_of_files1 = [x[class_label] for x in list_of_files1]\n",
        "\n",
        "print(list_of_files1) # now we have the list of paths of al images for a class\n",
        "\n",
        "\n",
        "# class 2\n",
        "\n",
        "cls2 = pd.read_csv('test2.csv')\n",
        "list_of_files2 = cls2.to_dict('records')\n",
        "\n",
        "print(list_of_files2) # the dictionary\n",
        "class_label = '2' # the first cell of csv file\n",
        "list_of_files2 = [x[class_label] for x in list_of_files2]\n",
        "\n",
        "print(list_of_files2) # now we have the list of paths of al images for a class\n",
        "\n",
        "# do the same for other classes\n",
        "\n",
        "#cls2 = pd.read_csv('path/cls1')\n",
        "#cls3 = pd.read_csv('path/cls1')\n",
        "#cls4 = pd.read_csv('path/cls1')\n",
        "#cls5 = pd.read_csv('path/cls1')\n",
        "#cls6 = pd.read_csv('path/cls1')\n",
        "#cls7 = pd.read_csv('path/cls1')\n",
        "#cls8 = pd.read_csv('path/cls1')\n",
        "#cls9 = pd.read_csv('path/cls1')\n",
        "#cls0 = pd.read_csv('path/cls1')\n"
      ],
      "execution_count": 64,
      "outputs": [
        {
          "output_type": "stream",
          "text": [
            "[{'1': 'img1.png'}, {'1': 'img2.png'}, {'1': 'img3.png'}, {'1': 'img4.png'}, {'1': 'img5.png'}, {'1': 'img6.png'}, {'1': 'img7.png'}, {'1': 'img8.png'}]\n",
            "['img1.png', 'img2.png', 'img3.png', 'img4.png', 'img5.png', 'img6.png', 'img7.png', 'img8.png']\n",
            "[{'2': 'img11.png'}, {'2': 'img12.png'}, {'2': 'img13.png'}, {'2': 'img14.png'}, {'2': 'img15.png'}, {'2': 'img16.png'}, {'2': 'img17.png'}, {'2': 'img18.png'}]\n",
            "['img11.png', 'img12.png', 'img13.png', 'img14.png', 'img15.png', 'img16.png', 'img17.png', 'img18.png']\n"
          ],
          "name": "stdout"
        }
      ]
    },
    {
      "metadata": {
        "id": "yC4VUZ3Z2TXW",
        "colab_type": "code",
        "colab": {}
      },
      "cell_type": "code",
      "source": [
        "# read all the images in cv2, repeat for all classes, reshape in the process 64X64\n",
        "\n",
        "cls1 = [cv2.resize(cv2.imread(a), (64,64)) for a in list_of_files1]\n",
        "\n",
        "# cls 2\n",
        "\n",
        "cls2 = [cv2.resize(cv2.imread(a), (64,64)) for a in list_of_files2]\n",
        "\n",
        "# repeat for other classes"
      ],
      "execution_count": 0,
      "outputs": []
    },
    {
      "metadata": {
        "id": "l7_qDp2I-WYF",
        "colab_type": "code",
        "colab": {
          "base_uri": "https://localhost:8080/",
          "height": 72
        },
        "outputId": "608f238a-d001-4938-8a63-470a885fbf5d"
      },
      "cell_type": "code",
      "source": [
        "# convert to numpy array\n",
        "cls1 = np.array(cls1, dtype='float32')\n",
        "# normalize\n",
        "cls1 /= 255.\n",
        "\n",
        "print(cls1.shape)\n",
        "print(np.mean(cls1))\n",
        "print(np.min(cls1))\n",
        "y = []\n",
        "y1 = np.zeros((len(list_of_files1)), dtype='float32') # extend it for other classes\n",
        "y.extend(y1)"
      ],
      "execution_count": 66,
      "outputs": [
        {
          "output_type": "stream",
          "text": [
            "(8, 64, 64, 3)\n",
            "0.0\n",
            "0.0\n"
          ],
          "name": "stdout"
        }
      ]
    },
    {
      "metadata": {
        "id": "SZmhz7SvCADe",
        "colab_type": "code",
        "colab": {
          "base_uri": "https://localhost:8080/",
          "height": 72
        },
        "outputId": "3562d45e-3f54-423a-ddbc-fae680e77f03"
      },
      "cell_type": "code",
      "source": [
        "cls2 = np.array(cls2, dtype='float32')\n",
        "# normalize\n",
        "cls2 /= 255.\n",
        "\n",
        "print(cls2.shape)\n",
        "print(np.mean(cls2))\n",
        "print(np.min(cls2))\n",
        "y2 = np.ones((len(list_of_files2)), dtype='float32')\n",
        "y.extend(y2)  # for other classes extend with a list of all 2s, all 3s, and so on"
      ],
      "execution_count": 67,
      "outputs": [
        {
          "output_type": "stream",
          "text": [
            "(8, 64, 64, 3)\n",
            "1.0\n",
            "1.0\n"
          ],
          "name": "stdout"
        }
      ]
    },
    {
      "metadata": {
        "id": "3oKkvpWjDQ1F",
        "colab_type": "code",
        "colab": {}
      },
      "cell_type": "code",
      "source": [
        "x = cls1\n",
        "\n",
        "x = np.concatenate((x, cls2), axis = 0) # add two class images in a single x\n",
        "\n",
        "# do this for other classes \n",
        "# like this\n",
        "# x = np.concatenate((cls1, cls2, cls3, ...., cls10), axis = 0)"
      ],
      "execution_count": 0,
      "outputs": []
    },
    {
      "metadata": {
        "id": "qrEh1GZOEqWV",
        "colab_type": "code",
        "colab": {
          "base_uri": "https://localhost:8080/",
          "height": 35
        },
        "outputId": "7cfe7e5a-f81b-488f-b58f-765aecb0317d"
      },
      "cell_type": "code",
      "source": [
        "x.shape"
      ],
      "execution_count": 78,
      "outputs": [
        {
          "output_type": "execute_result",
          "data": {
            "text/plain": [
              "(16, 64, 64, 3)"
            ]
          },
          "metadata": {
            "tags": []
          },
          "execution_count": 78
        }
      ]
    },
    {
      "metadata": {
        "id": "6uahqCQhACLV",
        "colab_type": "code",
        "colab": {
          "base_uri": "https://localhost:8080/",
          "height": 53
        },
        "outputId": "76d5fd7a-65b7-43c8-d015-2506d715fb02"
      },
      "cell_type": "code",
      "source": [
        "print(y)\n",
        "y = np.array(y, dtype='float32')\n",
        "print(y.shape)"
      ],
      "execution_count": 82,
      "outputs": [
        {
          "output_type": "stream",
          "text": [
            "[0.0, 0.0, 0.0, 0.0, 0.0, 0.0, 0.0, 0.0, 1.0, 1.0, 1.0, 1.0, 1.0, 1.0, 1.0, 1.0]\n",
            "(16,)\n"
          ],
          "name": "stdout"
        }
      ]
    },
    {
      "metadata": {
        "id": "m5bOGPGK-41t",
        "colab_type": "code",
        "colab": {}
      },
      "cell_type": "code",
      "source": [
        "# only assuming training and validation, no testing\n",
        "\n",
        "from keras.models import Sequential\n",
        "from keras.layers import Dense, Conv2D, MaxPooling2D, Dropout, Flatten\n",
        "\n",
        "input_shape = (64,64,3)\n",
        "nClasses = 2 # change it to 10, for 10 classes\n",
        "def createModel():\n",
        "    model = Sequential()\n",
        "    model.add(Conv2D(32, (3, 3), padding='same', activation='relu', input_shape=input_shape))\n",
        "    model.add(Conv2D(32, (3, 3), activation='relu'))\n",
        "    model.add(MaxPooling2D(pool_size=(2, 2)))\n",
        "    model.add(Dropout(0.25))\n",
        " \n",
        "    model.add(Conv2D(64, (3, 3), padding='same', activation='relu'))\n",
        "    model.add(Conv2D(64, (3, 3), activation='relu'))\n",
        "    model.add(MaxPooling2D(pool_size=(2, 2)))\n",
        "    model.add(Dropout(0.25))\n",
        " \n",
        "    model.add(Conv2D(64, (3, 3), padding='same', activation='relu'))\n",
        "    model.add(Conv2D(64, (3, 3), activation='relu'))\n",
        "    model.add(MaxPooling2D(pool_size=(2, 2)))\n",
        "    model.add(Dropout(0.25))\n",
        " \n",
        "    model.add(Flatten())\n",
        "    model.add(Dense(512, activation='relu'))\n",
        "    model.add(Dropout(0.5))\n",
        "    model.add(Dense(nClasses, activation='softmax'))\n",
        "     \n",
        "    return model"
      ],
      "execution_count": 0,
      "outputs": []
    },
    {
      "metadata": {
        "id": "9pCOWqNZC84W",
        "colab_type": "code",
        "colab": {
          "base_uri": "https://localhost:8080/",
          "height": 727
        },
        "outputId": "b663a1de-0907-4a75-b633-686333c05592"
      },
      "cell_type": "code",
      "source": [
        "cnn = createModel()\n",
        "cnn.summary()"
      ],
      "execution_count": 71,
      "outputs": [
        {
          "output_type": "stream",
          "text": [
            "_________________________________________________________________\n",
            "Layer (type)                 Output Shape              Param #   \n",
            "=================================================================\n",
            "conv2d_1 (Conv2D)            (None, 64, 64, 32)        896       \n",
            "_________________________________________________________________\n",
            "conv2d_2 (Conv2D)            (None, 62, 62, 32)        9248      \n",
            "_________________________________________________________________\n",
            "max_pooling2d_1 (MaxPooling2 (None, 31, 31, 32)        0         \n",
            "_________________________________________________________________\n",
            "dropout_1 (Dropout)          (None, 31, 31, 32)        0         \n",
            "_________________________________________________________________\n",
            "conv2d_3 (Conv2D)            (None, 31, 31, 64)        18496     \n",
            "_________________________________________________________________\n",
            "conv2d_4 (Conv2D)            (None, 29, 29, 64)        36928     \n",
            "_________________________________________________________________\n",
            "max_pooling2d_2 (MaxPooling2 (None, 14, 14, 64)        0         \n",
            "_________________________________________________________________\n",
            "dropout_2 (Dropout)          (None, 14, 14, 64)        0         \n",
            "_________________________________________________________________\n",
            "conv2d_5 (Conv2D)            (None, 14, 14, 64)        36928     \n",
            "_________________________________________________________________\n",
            "conv2d_6 (Conv2D)            (None, 12, 12, 64)        36928     \n",
            "_________________________________________________________________\n",
            "max_pooling2d_3 (MaxPooling2 (None, 6, 6, 64)          0         \n",
            "_________________________________________________________________\n",
            "dropout_3 (Dropout)          (None, 6, 6, 64)          0         \n",
            "_________________________________________________________________\n",
            "flatten_1 (Flatten)          (None, 2304)              0         \n",
            "_________________________________________________________________\n",
            "dense_1 (Dense)              (None, 512)               1180160   \n",
            "_________________________________________________________________\n",
            "dropout_4 (Dropout)          (None, 512)               0         \n",
            "_________________________________________________________________\n",
            "dense_2 (Dense)              (None, 2)                 1026      \n",
            "=================================================================\n",
            "Total params: 1,320,610\n",
            "Trainable params: 1,320,610\n",
            "Non-trainable params: 0\n",
            "_________________________________________________________________\n"
          ],
          "name": "stdout"
        }
      ]
    },
    {
      "metadata": {
        "id": "A5gcRIuGGA8s",
        "colab_type": "code",
        "colab": {
          "base_uri": "https://localhost:8080/",
          "height": 308
        },
        "outputId": "4ed58c2e-7161-4e20-e66d-1b9b7f77fa8c"
      },
      "cell_type": "code",
      "source": [
        "from keras.utils import to_categorical\n",
        "\n",
        "y = to_categorical(y)\n",
        "print(y)"
      ],
      "execution_count": 84,
      "outputs": [
        {
          "output_type": "stream",
          "text": [
            "[[1. 0.]\n",
            " [1. 0.]\n",
            " [1. 0.]\n",
            " [1. 0.]\n",
            " [1. 0.]\n",
            " [1. 0.]\n",
            " [1. 0.]\n",
            " [1. 0.]\n",
            " [0. 1.]\n",
            " [0. 1.]\n",
            " [0. 1.]\n",
            " [0. 1.]\n",
            " [0. 1.]\n",
            " [0. 1.]\n",
            " [0. 1.]\n",
            " [0. 1.]]\n"
          ],
          "name": "stdout"
        }
      ]
    },
    {
      "metadata": {
        "id": "J-bdrve0DE_N",
        "colab_type": "code",
        "colab": {
          "base_uri": "https://localhost:8080/",
          "height": 419
        },
        "outputId": "05307d8e-5068-441f-f2bd-a60761f27b08"
      },
      "cell_type": "code",
      "source": [
        "batch_size = 16 # increase this\n",
        "epochs = 10 # increase this for original data\n",
        "cnn.compile(optimizer='adam', loss='categorical_crossentropy', metrics=['accuracy'])\n",
        " \n",
        "history = cnn.fit(x, y, batch_size=batch_size, epochs=epochs, verbose=1, \n",
        "                   validation_split=0.2)"
      ],
      "execution_count": 86,
      "outputs": [
        {
          "output_type": "stream",
          "text": [
            "Train on 12 samples, validate on 4 samples\n",
            "Epoch 1/10\n",
            "12/12 [==============================] - 4s 360ms/step - loss: 0.7078 - acc: 0.7500 - val_loss: 0.4930 - val_acc: 1.0000\n",
            "Epoch 2/10\n",
            "12/12 [==============================] - 0s 2ms/step - loss: 0.5490 - acc: 0.3333 - val_loss: 0.1041 - val_acc: 1.0000\n",
            "Epoch 3/10\n",
            "12/12 [==============================] - 0s 2ms/step - loss: 0.4701 - acc: 0.3333 - val_loss: 0.0027 - val_acc: 1.0000\n",
            "Epoch 4/10\n",
            "12/12 [==============================] - 0s 2ms/step - loss: 0.4603 - acc: 1.0000 - val_loss: 8.2255e-06 - val_acc: 1.0000\n",
            "Epoch 5/10\n",
            "12/12 [==============================] - 0s 2ms/step - loss: 0.4555 - acc: 1.0000 - val_loss: 1.1921e-07 - val_acc: 1.0000\n",
            "Epoch 6/10\n",
            "12/12 [==============================] - 0s 2ms/step - loss: 0.4523 - acc: 1.0000 - val_loss: 1.1921e-07 - val_acc: 1.0000\n",
            "Epoch 7/10\n",
            "12/12 [==============================] - 0s 2ms/step - loss: 0.4489 - acc: 1.0000 - val_loss: 1.1921e-07 - val_acc: 1.0000\n",
            "Epoch 8/10\n",
            "12/12 [==============================] - 0s 2ms/step - loss: 0.4447 - acc: 1.0000 - val_loss: 1.1921e-07 - val_acc: 1.0000\n",
            "Epoch 9/10\n",
            "12/12 [==============================] - 0s 2ms/step - loss: 0.4409 - acc: 1.0000 - val_loss: 1.1921e-07 - val_acc: 1.0000\n",
            "Epoch 10/10\n",
            "12/12 [==============================] - 0s 3ms/step - loss: 0.4354 - acc: 1.0000 - val_loss: 1.1921e-07 - val_acc: 1.0000\n"
          ],
          "name": "stdout"
        }
      ]
    },
    {
      "metadata": {
        "id": "hPLn_Fo_GIoW",
        "colab_type": "code",
        "colab": {}
      },
      "cell_type": "code",
      "source": [
        ""
      ],
      "execution_count": 0,
      "outputs": []
    }
  ]
}